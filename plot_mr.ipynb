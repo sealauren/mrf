{
 "metadata": {
  "name": ""
 },
 "nbformat": 3,
 "nbformat_minor": 0,
 "worksheets": [
  {
   "cells": [
    {
     "cell_type": "code",
     "collapsed": false,
     "input": [
      "%pylab inline\n",
      "import pickle\n",
      "import numpy as np\n",
      "import scipy as sp\n",
      "import pandas as pd\n",
      "from astropy import constants as const"
     ],
     "language": "python",
     "metadata": {},
     "outputs": [
      {
       "output_type": "stream",
       "stream": "stdout",
       "text": [
        "Populating the interactive namespace from numpy and matplotlib\n"
       ]
      }
     ],
     "prompt_number": 2
    },
    {
     "cell_type": "code",
     "collapsed": false,
     "input": [
      "mearth = 5.9721986E27 #grams\n",
      "rearth = 6.3675E8 #centimeters\n",
      "msun = 1.988435E33 #grams\n",
      "rsun = 6.955E10 #centimeters\n",
      "cmperau=1.496E13\n",
      "lsun = 3.846E33 #ergs per second\n",
      "tsun = 5780 #kelvins\n",
      "ss_names = {\"name\" : ['Me','V','E','Ma','J','S','U','N']}\n",
      "ss = pd.DataFrame(ss_names) \n",
      "ss['m'] = [0.0553, 0.815, 1.00, 0.107, 317.83, 95.159, 14.536, 17.147]\n",
      "ss['um'] = ss.m*0.10\n",
      "ss['r'] = [0.383,0.950,1.0, 0.532, 10.973, 9.140, 3.981, 3.865]\n",
      "ss['ur'] = ss.r*0.05\n",
      "ss['a'] = [0.387, 0.723 , 1.0, 1.524, 5.204, 9.582, 19.201, 30.047]\n",
      "ss['rho'] = (ss.m * mearth)/(4./3 * np.pi * (ss.r * rearth)**3.)\n",
      "ss['urho'] = np.sqrt((ss.um/ss.m)**2. + (3*ss.ur/ss.r)**2.)*ss.rho\n",
      "ss['flux'] = 1./ss.a**2\n",
      "ss['per'] = 365.25 * pow(ss.a, 3./2)\n",
      "ss['fe'] = [0.0]*8\n",
      "ss['age'] = [5.0]*8\n",
      "ss = ss.set_index('name')\n",
      "ss.head()"
     ],
     "language": "python",
     "metadata": {},
     "outputs": [
      {
       "html": [
        "<div style=\"max-height:1000px;max-width:1500px;overflow:auto;\">\n",
        "<table border=\"1\" class=\"dataframe\">\n",
        "  <thead>\n",
        "    <tr style=\"text-align: right;\">\n",
        "      <th></th>\n",
        "      <th>m</th>\n",
        "      <th>um</th>\n",
        "      <th>r</th>\n",
        "      <th>ur</th>\n",
        "      <th>a</th>\n",
        "      <th>rho</th>\n",
        "      <th>urho</th>\n",
        "      <th>flux</th>\n",
        "      <th>per</th>\n",
        "      <th>fe</th>\n",
        "      <th>age</th>\n",
        "    </tr>\n",
        "    <tr>\n",
        "      <th>name</th>\n",
        "      <th></th>\n",
        "      <th></th>\n",
        "      <th></th>\n",
        "      <th></th>\n",
        "      <th></th>\n",
        "      <th></th>\n",
        "      <th></th>\n",
        "      <th></th>\n",
        "      <th></th>\n",
        "      <th></th>\n",
        "      <th></th>\n",
        "    </tr>\n",
        "  </thead>\n",
        "  <tbody>\n",
        "    <tr>\n",
        "      <th>Me</th>\n",
        "      <td>   0.0553</td>\n",
        "      <td>  0.00553</td>\n",
        "      <td>  0.383</td>\n",
        "      <td> 0.01915</td>\n",
        "      <td> 0.387</td>\n",
        "      <td> 5.435851</td>\n",
        "      <td> 0.979962</td>\n",
        "      <td> 6.676949</td>\n",
        "      <td>   87.933968</td>\n",
        "      <td> 0</td>\n",
        "      <td> 5</td>\n",
        "    </tr>\n",
        "    <tr>\n",
        "      <th>V</th>\n",
        "      <td>   0.8150</td>\n",
        "      <td>  0.08150</td>\n",
        "      <td>  0.950</td>\n",
        "      <td> 0.04750</td>\n",
        "      <td> 0.723</td>\n",
        "      <td> 5.249592</td>\n",
        "      <td> 0.946384</td>\n",
        "      <td> 1.913037</td>\n",
        "      <td>  224.542043</td>\n",
        "      <td> 0</td>\n",
        "      <td> 5</td>\n",
        "    </tr>\n",
        "    <tr>\n",
        "      <th>E</th>\n",
        "      <td>   1.0000</td>\n",
        "      <td>  0.10000</td>\n",
        "      <td>  1.000</td>\n",
        "      <td> 0.05000</td>\n",
        "      <td> 1.000</td>\n",
        "      <td> 5.522539</td>\n",
        "      <td> 0.995590</td>\n",
        "      <td> 1.000000</td>\n",
        "      <td>  365.250000</td>\n",
        "      <td> 0</td>\n",
        "      <td> 5</td>\n",
        "    </tr>\n",
        "    <tr>\n",
        "      <th>Ma</th>\n",
        "      <td>   0.1070</td>\n",
        "      <td>  0.01070</td>\n",
        "      <td>  0.532</td>\n",
        "      <td> 0.02660</td>\n",
        "      <td> 1.524</td>\n",
        "      <td> 3.924530</td>\n",
        "      <td> 0.707505</td>\n",
        "      <td> 0.430556</td>\n",
        "      <td>  687.175513</td>\n",
        "      <td> 0</td>\n",
        "      <td> 5</td>\n",
        "    </tr>\n",
        "    <tr>\n",
        "      <th>J</th>\n",
        "      <td> 317.8300</td>\n",
        "      <td> 31.78300</td>\n",
        "      <td> 10.973</td>\n",
        "      <td> 0.54865</td>\n",
        "      <td> 5.204</td>\n",
        "      <td> 1.328488</td>\n",
        "      <td> 0.239497</td>\n",
        "      <td> 0.036925</td>\n",
        "      <td> 4336.068720</td>\n",
        "      <td> 0</td>\n",
        "      <td> 5</td>\n",
        "    </tr>\n",
        "  </tbody>\n",
        "</table>\n",
        "</div>"
       ],
       "metadata": {},
       "output_type": "pyout",
       "prompt_number": 4,
       "text": [
        "             m        um       r       ur      a       rho      urho  \\\n",
        "name                                                                   \n",
        "Me      0.0553   0.00553   0.383  0.01915  0.387  5.435851  0.979962   \n",
        "V       0.8150   0.08150   0.950  0.04750  0.723  5.249592  0.946384   \n",
        "E       1.0000   0.10000   1.000  0.05000  1.000  5.522539  0.995590   \n",
        "Ma      0.1070   0.01070   0.532  0.02660  1.524  3.924530  0.707505   \n",
        "J     317.8300  31.78300  10.973  0.54865  5.204  1.328488  0.239497   \n",
        "\n",
        "          flux          per  fe  age  \n",
        "name                                  \n",
        "Me    6.676949    87.933968   0    5  \n",
        "V     1.913037   224.542043   0    5  \n",
        "E     1.000000   365.250000   0    5  \n",
        "Ma    0.430556   687.175513   0    5  \n",
        "J     0.036925  4336.068720   0    5  "
       ]
      }
     ],
     "prompt_number": 4
    },
    {
     "cell_type": "code",
     "collapsed": false,
     "input": [
      "df = pickle.load(open('exoplanets.pickle'))\n",
      "medf = np.median(df.flux)\n",
      "df_hot = df[df.flux > medf]\n",
      "df_cold = df[df.flux <= medf]\n",
      "sp = pickle.load(open('small_exoplanets.pickle'))\n",
      "#sp = sp.ix[sp.index!='Kepler-78 b',:]\n",
      "sp['evap'] = sp.flux * sp.age\n",
      "#sp.um = np.maximum(sp.um,0.1*sp.m)\n",
      "#sp.ur = np.maximum(sp.ur,0.05*sp.r)\n",
      "#sp.urho = np.maximum(abs(sp.urho), (np.sqrt((sp.um/sp.m)**2. + (3*sp.ur/sp.r)**2.)*sp.rho))\n",
      "sp_clean = sp[sp.urho < 6.5]\n",
      "sp_1sig = sp[sp.m > sp.um]\n",
      "sp_cold = sp[sp.flux <= np.median(sp.flux)]\n",
      "sp_hot = sp[sp.flux > np.median(sp.flux)]\n",
      "sp['ttv'] = [0]*len(sp)\n",
      "sp.ix[['Kepler-11 b','Kepler-11 c','Kepler-11 d','Kepler-11 f','Kepler-30 b','Kepler-36 b','Kepler-36 c','KOI-152 b','KOI-152 c','KOI-152 e'],'ttv'] = 1\n",
      "ttvs = sp.ix[['Kepler-11 b','Kepler-11 c','Kepler-11 d','Kepler-11 f','Kepler-30 b','Kepler-36 b','Kepler-36 c','KOI-152 b','KOI-152 c','KOI-152 e'],:]\n",
      "sp_vol = sp[sp.r >= 1.5]\n",
      "sp_rocky = sp[sp.r < 1.5].append(ss[ss.r < 1.5])\n",
      "sp_rocky.ix[:,['r','ur','m','um','rho','urho']]\n",
      "len(sp)"
     ],
     "language": "python",
     "metadata": {},
     "outputs": [
      {
       "metadata": {},
       "output_type": "pyout",
       "prompt_number": 5,
       "text": [
        "63"
       ]
      }
     ],
     "prompt_number": 5
    },
    {
     "cell_type": "code",
     "collapsed": false,
     "input": [
      "sp.ix[:5,['per','m','um','r','ur','flux','firstref','orbref']]"
     ],
     "language": "python",
     "metadata": {},
     "outputs": [
      {
       "html": [
        "<div style=\"max-height:1000px;max-width:1500px;overflow:auto;\">\n",
        "<table border=\"1\" class=\"dataframe\">\n",
        "  <thead>\n",
        "    <tr style=\"text-align: right;\">\n",
        "      <th></th>\n",
        "      <th>per</th>\n",
        "      <th>m</th>\n",
        "      <th>um</th>\n",
        "      <th>r</th>\n",
        "      <th>ur</th>\n",
        "      <th>flux</th>\n",
        "      <th>firstref</th>\n",
        "      <th>orbref</th>\n",
        "    </tr>\n",
        "    <tr>\n",
        "      <th>name</th>\n",
        "      <th></th>\n",
        "      <th></th>\n",
        "      <th></th>\n",
        "      <th></th>\n",
        "      <th></th>\n",
        "      <th></th>\n",
        "      <th></th>\n",
        "      <th></th>\n",
        "    </tr>\n",
        "  </thead>\n",
        "  <tbody>\n",
        "    <tr>\n",
        "      <th>55 Cnc e</th>\n",
        "      <td> 0.736546</td>\n",
        "      <td>  8.379902</td>\n",
        "      <td> 0.392415</td>\n",
        "      <td> 1.990000</td>\n",
        "      <td> 0.084</td>\n",
        "      <td> 2439.689702</td>\n",
        "      <td>            McArthur 2004</td>\n",
        "      <td> Endl 2012, Dragomir 2013</td>\n",
        "    </tr>\n",
        "    <tr>\n",
        "      <th>CoRoT-7 b</th>\n",
        "      <td> 0.853585</td>\n",
        "      <td>  7.420000</td>\n",
        "      <td> 1.210000</td>\n",
        "      <td> 1.580000</td>\n",
        "      <td> 0.100</td>\n",
        "      <td> 1779.432902</td>\n",
        "      <td> Queloz 2009 ; Leger 2009</td>\n",
        "      <td>              Hatzes 2012</td>\n",
        "    </tr>\n",
        "    <tr>\n",
        "      <th>GJ 1214 b</th>\n",
        "      <td> 1.580405</td>\n",
        "      <td>  6.450000</td>\n",
        "      <td> 0.910000</td>\n",
        "      <td> 2.650000</td>\n",
        "      <td> 0.090</td>\n",
        "      <td>   16.320107</td>\n",
        "      <td>         Charbonneau 2009</td>\n",
        "      <td>              Carter 2011</td>\n",
        "    </tr>\n",
        "    <tr>\n",
        "      <th>HD 97658 b</th>\n",
        "      <td> 9.490900</td>\n",
        "      <td>  7.862465</td>\n",
        "      <td> 0.730025</td>\n",
        "      <td> 2.339998</td>\n",
        "      <td> 0.165</td>\n",
        "      <td>   48.105998</td>\n",
        "      <td>              Howard 2011</td>\n",
        "      <td>            Dragomir 2013</td>\n",
        "    </tr>\n",
        "    <tr>\n",
        "      <th>KOI-104.01 </th>\n",
        "      <td> 2.508060</td>\n",
        "      <td> 10.840000</td>\n",
        "      <td> 1.400000</td>\n",
        "      <td> 3.510000</td>\n",
        "      <td> 0.150</td>\n",
        "      <td>  238.747262</td>\n",
        "      <td>             Borucki 2011</td>\n",
        "      <td>               Marcy 2013</td>\n",
        "    </tr>\n",
        "  </tbody>\n",
        "</table>\n",
        "</div>"
       ],
       "metadata": {},
       "output_type": "pyout",
       "prompt_number": 6,
       "text": [
        "                  per          m        um         r     ur         flux  \\\n",
        "name                                                                       \n",
        "55 Cnc e     0.736546   8.379902  0.392415  1.990000  0.084  2439.689702   \n",
        "CoRoT-7 b    0.853585   7.420000  1.210000  1.580000  0.100  1779.432902   \n",
        "GJ 1214 b    1.580405   6.450000  0.910000  2.650000  0.090    16.320107   \n",
        "HD 97658 b   9.490900   7.862465  0.730025  2.339998  0.165    48.105998   \n",
        "KOI-104.01   2.508060  10.840000  1.400000  3.510000  0.150   238.747262   \n",
        "\n",
        "                             firstref                    orbref  \n",
        "name                                                             \n",
        "55 Cnc e                McArthur 2004  Endl 2012, Dragomir 2013  \n",
        "CoRoT-7 b    Queloz 2009 ; Leger 2009               Hatzes 2012  \n",
        "GJ 1214 b            Charbonneau 2009               Carter 2011  \n",
        "HD 97658 b                Howard 2011             Dragomir 2013  \n",
        "KOI-104.01               Borucki 2011                Marcy 2013  "
       ]
      }
     ],
     "prompt_number": 6
    },
    {
     "cell_type": "code",
     "collapsed": false,
     "input": [
      "ttvs.ix[:,['m','r','rho','urho']]"
     ],
     "language": "python",
     "metadata": {},
     "outputs": [
      {
       "html": [
        "<div style=\"max-height:1000px;max-width:1500px;overflow:auto;\">\n",
        "<table border=\"1\" class=\"dataframe\">\n",
        "  <thead>\n",
        "    <tr style=\"text-align: right;\">\n",
        "      <th></th>\n",
        "      <th>m</th>\n",
        "      <th>r</th>\n",
        "      <th>rho</th>\n",
        "      <th>urho</th>\n",
        "    </tr>\n",
        "  </thead>\n",
        "  <tbody>\n",
        "    <tr>\n",
        "      <th>Kepler-11 b</th>\n",
        "      <td>  1.900000</td>\n",
        "      <td> 1.800000</td>\n",
        "      <td> 1.72</td>\n",
        "      <td> 1.080</td>\n",
        "    </tr>\n",
        "    <tr>\n",
        "      <th>Kepler-11 c</th>\n",
        "      <td>  2.900000</td>\n",
        "      <td> 2.870000</td>\n",
        "      <td> 0.66</td>\n",
        "      <td> 0.500</td>\n",
        "    </tr>\n",
        "    <tr>\n",
        "      <th>Kepler-11 d</th>\n",
        "      <td>  7.300000</td>\n",
        "      <td> 3.120000</td>\n",
        "      <td> 1.28</td>\n",
        "      <td> 0.210</td>\n",
        "    </tr>\n",
        "    <tr>\n",
        "      <th>Kepler-11 f</th>\n",
        "      <td>  2.000000</td>\n",
        "      <td> 2.490000</td>\n",
        "      <td> 0.69</td>\n",
        "      <td> 0.300</td>\n",
        "    </tr>\n",
        "    <tr>\n",
        "      <th>Kepler-30 b</th>\n",
        "      <td> 11.300605</td>\n",
        "      <td> 3.896522</td>\n",
        "      <td> 1.02</td>\n",
        "      <td> 0.130</td>\n",
        "    </tr>\n",
        "    <tr>\n",
        "      <th>Kepler-36 b</th>\n",
        "      <td>  4.461478</td>\n",
        "      <td> 1.484674</td>\n",
        "      <td> 7.46</td>\n",
        "      <td> 0.665</td>\n",
        "    </tr>\n",
        "    <tr>\n",
        "      <th>Kepler-36 c</th>\n",
        "      <td>  8.100828</td>\n",
        "      <td> 3.675716</td>\n",
        "      <td> 0.89</td>\n",
        "      <td> 0.060</td>\n",
        "    </tr>\n",
        "    <tr>\n",
        "      <th>KOI-152 b</th>\n",
        "      <td> 10.900000</td>\n",
        "      <td> 3.470000</td>\n",
        "      <td> 1.43</td>\n",
        "      <td> 0.885</td>\n",
        "    </tr>\n",
        "    <tr>\n",
        "      <th>KOI-152 c</th>\n",
        "      <td>  5.900000</td>\n",
        "      <td> 3.720000</td>\n",
        "      <td> 0.62</td>\n",
        "      <td> 0.225</td>\n",
        "    </tr>\n",
        "    <tr>\n",
        "      <th>KOI-152 e</th>\n",
        "      <td>  4.100000</td>\n",
        "      <td> 3.490000</td>\n",
        "      <td> 0.53</td>\n",
        "      <td> 0.150</td>\n",
        "    </tr>\n",
        "  </tbody>\n",
        "</table>\n",
        "</div>"
       ],
       "metadata": {},
       "output_type": "pyout",
       "prompt_number": 7,
       "text": [
        "                     m         r   rho   urho\n",
        "Kepler-11 b   1.900000  1.800000  1.72  1.080\n",
        "Kepler-11 c   2.900000  2.870000  0.66  0.500\n",
        "Kepler-11 d   7.300000  3.120000  1.28  0.210\n",
        "Kepler-11 f   2.000000  2.490000  0.69  0.300\n",
        "Kepler-30 b  11.300605  3.896522  1.02  0.130\n",
        "Kepler-36 b   4.461478  1.484674  7.46  0.665\n",
        "Kepler-36 c   8.100828  3.675716  0.89  0.060\n",
        "KOI-152 b    10.900000  3.470000  1.43  0.885\n",
        "KOI-152 c     5.900000  3.720000  0.62  0.225\n",
        "KOI-152 e     4.100000  3.490000  0.53  0.150"
       ]
      }
     ],
     "prompt_number": 7
    },
    {
     "cell_type": "code",
     "collapsed": false,
     "input": [
      "from scipy.stats import pearsonr\n",
      "print \"Pearson R, Null prob. on M-R correlation:\", pearsonr(sp.r, sp.m)"
     ],
     "language": "python",
     "metadata": {},
     "outputs": [
      {
       "output_type": "stream",
       "stream": "stdout",
       "text": [
        "Pearson R, Null prob. on M-R correlation: (0.57924030906542978, 6.5705831049560384e-07)\n"
       ]
      }
     ],
     "prompt_number": 8
    },
    {
     "cell_type": "code",
     "collapsed": false,
     "input": [
      "def plot_all_exoplanets_mrf():\n",
      "    # plot whole population in r vs. m, d vs. m\n",
      "    fig = plt.figure()\n",
      "    ax1 = fig.add_subplot(1,2,1, xscale=\"log\", yscale=\"log\") \n",
      "    ax2 = fig.add_subplot(1,2,2, xscale=\"log\", yscale=\"log\") \n",
      "    ax1.errorbar(df_hot.m, df_hot.r, xerr=df_hot.um, yerr=df_hot.ur, \n",
      "                 fmt='o', markersize=5, \n",
      "                 alpha=0.5, color='r', label='$F > $ %i $F_E$'%medf, \n",
      "                 capsize=0);\n",
      "    ax1.errorbar(df_cold.m, df_cold.r, xerr=df_cold.um, yerr=df_cold.ur, \n",
      "             fmt='o', markersize=5, \n",
      "             alpha =0.5, color='b', label='$F < $ %i $F_E$'%medf, \n",
      "             capsize=0);\n",
      "    for x in zip(ss.m,ss.r,ss.index):\n",
      "        ax1.text(x[0], x[1], x[2], fontsize=12, family='monospace', color='k')\n",
      "    ax2.errorbar(df_hot.m, df_hot.rho, xerr=df_hot.um, yerr=df_hot.urho, \n",
      "             fmt='o', markersize=5, \n",
      "             alpha=0.5, color='r', label='$F > $ %i $F_E$'%medf, \n",
      "             capsize=0);\n",
      "    ax2.errorbar(df_cold.m, df_cold.rho, xerr=df_cold.um, yerr=df_cold.urho, \n",
      "             fmt='o', markersize=5, \n",
      "             alpha=0.5, color='b', label='$F < $ %i $F_E$'%medf,\n",
      "             capsize=0);\n",
      "    for x in zip(ss.m,ss.rho,ss.index):\n",
      "        ax2.text(x[0], x[1], x[2], fontsize=12, family='monospace', color='k')\n",
      "    ax1.set_xlabel('Planet Mass ($\\mathrm{M_E}$)', fontsize=16)\n",
      "    ax2.set_xlabel('Planet Mass ($\\mathrm{M_E}$)', fontsize=16)\n",
      "    ax1.set_ylabel('Planet Radius ($\\mathrm{R_E}$)',fontsize=16)\n",
      "    ax2.set_ylabel('Planet Density (g/cc)',fontsize=16)\n",
      "    ax1.legend(loc='lower right');\n",
      "    ax2.legend(loc='upper right');\n",
      "    fig.set_size_inches(12,6)\n",
      "    plt.savefig('mrf.eps')\n",
      "#plot_all_exoplanets_mrf"
     ],
     "language": "python",
     "metadata": {},
     "outputs": [],
     "prompt_number": 9
    },
    {
     "cell_type": "code",
     "collapsed": false,
     "input": [
      "# plot histograms\n",
      "fig, axes = plt.subplots(nrows=1, ncols=3)\n",
      "from matplotlib.ticker import MultipleLocator, FormatStrFormatter\n",
      "sp['r'].hist(ax=axes[0], bins = arange(0,5,0.5));\n",
      "axes[0].set_xlabel('Radius ($\\mathrm{R_E}$)', fontsize=16); \n",
      "axes[0].set_ylabel('Number', fontsize=16)\n",
      "majorLocator   = MultipleLocator(0.5)\n",
      "axes[0].xaxis.set_major_locator(majorLocator);\n",
      "sp['m'].hist(ax=axes[1], bins = arange(-10,20,2)); \n",
      "axes[1].set_xlabel('Mass ($\\mathrm{M_E}$)', fontsize=16)\n",
      "majorLocator   = MultipleLocator(4)\n",
      "axes[1].xaxis.set_major_locator(majorLocator)\n",
      "sp['rho'].hist(ax=axes[2], range=(-10,30), bins = arange(-10,30,2)); \n",
      "axes[2].set_xlabel('Density (g/cc)', fontsize=16)\n",
      "majorLocator   = MultipleLocator(4)\n",
      "axes[2].xaxis.set_major_locator(majorLocator)\n",
      "fig.set_size_inches(12,6);\n",
      "subplots_adjust(wspace=0.1)\n",
      "subplots_adjust(hspace=0.5)\n",
      "plt.savefig('histograms.png',dpi=100)\n",
      "plt.savefig('histograms.eps', format='eps', dpi=100)"
     ],
     "language": "python",
     "metadata": {},
     "outputs": [
      {
       "metadata": {},
       "output_type": "display_data",
       "png": "[encoded data removed]",
       "text": [
        "<matplotlib.figure.Figure at 0x1104d6f90>"
       ]
      }
     ],
     "prompt_number": 10
    },
    {
     "cell_type": "code",
     "collapsed": false,
     "input": [
      "# numerical weighted linear fit\n",
      "fitfunc = lambda p, x: p[0] + p[1] * x\n",
      "errfunc = lambda p, x, y, err: (y - fitfunc(p, x)) / err  \n",
      "from scipy.optimize import leastsq\n",
      "out_vol = leastsq(errfunc,  [0.2,2.5], args=(sp.r[sp.r >= 1.5], sp.m[sp.r >= 1.5], \n",
      "                                         sp.um[sp.r >= 1.5]),full_output=1)\n",
      "out = leastsq(errfunc,  [0.2,2.5], args=(sp.r, sp.m, \n",
      "                                         sp.um),full_output=1)\n",
      "lin_pars = out[0]\n",
      "best_pars = out_vol[0]\n",
      "print \"Linear Mass-Radius Fit for R >= 1.5 R_E:\"\n",
      "print \"Best parameters:\", best_pars\n",
      "print \"Covariance:\", out_vol[1]\n",
      "print \"Chi^2:\", (errfunc(out_vol[0],sp_vol.r,sp_vol.m,sp_vol.um)**2.).sum()/(len(sp_vol) - len(out_vol[0]))\n",
      "print \"RMS:\", np.sqrt(np.mean((sp_vol.m - fitfunc(best_pars,sp_vol.r))**2.))\n",
      "#calculate standard errors\n",
      "ssxx = sum((sp_vol.r - np.mean(sp_vol.r))**2.)\n",
      "ssyy = sum((sp_vol.m - np.mean(sp_vol.m))**2.)\n",
      "n = len(sp_vol)\n",
      "s = np.sqrt(sum((sp_vol.m - fitfunc(best_pars,sp_vol.r))**2./(n-2)))\n",
      "sea = s*np.sqrt(1./n + np.mean(sp.r[sp.r >= 1.5])**2./ssxx)\n",
      "seb = s/np.sqrt(ssxx)\n",
      "print \"Standard errors:\"\n",
      "print \"Intercept:\", sea, \"Slope:\", seb\n",
      "# generate fine arrays\n",
      "rarr = linspace(1.5, 4.0, 101)\n",
      "marr = fitfunc(best_pars,rarr)\n",
      "darr = (marr*mearth)/(4./3.*pi*(rarr*rearth)**3)\n",
      "darr[darr < 0] = 100"
     ],
     "language": "python",
     "metadata": {},
     "outputs": [
      {
       "output_type": "stream",
       "stream": "stdout",
       "text": [
        "Linear Mass-Radius Fit for R >= 1.5 R_E:\n",
        "Best parameters: [ 5.60161626  0.70850517]\n",
        "Covariance: [[ 0.63263304 -0.22757035]\n",
        " [-0.22757035  0.0883843 ]]\n",
        "Chi^2: 3.46418889509\n",
        "RMS: 4.57425753642\n",
        "Standard errors:\n",
        "Intercept: 2.95626543294 Slope: 1.13672642135\n"
       ]
      }
     ],
     "prompt_number": 11
    },
    {
     "cell_type": "code",
     "collapsed": false,
     "input": [
      "# this is an *analytical* weighted polynomial fit to density vs. radius -- the best!\n",
      "out4 = np.polynomial.polynomial.polyfit(sp_vol.r, sp_vol.rho, 2, \n",
      "                                        rcond=None, full=True, w=1./sp_vol.urho**2.)\n",
      "best_q = out4[0]\n",
      "poly2 = lambda p, x: p[0] + p[1] * x + p[2] * x**2.\n",
      "poly3 = lambda p, x: p[0] + p[1] * x + p[2] * x**2. + p[3] * x**3.\n",
      "poly_d = best_q[0] + best_q[1] * rarr + best_q[2] * rarr**2.# + best_q[3] * rarr**3.\n",
      "rho_pred = poly2(best_q,sp_vol.r)\n",
      "print \"Best Analytical Weighted Polynomial Fit to Density vs. Radius:\"\n",
      "print \"Best parameters:\", out4[0]\n",
      "print \"Covariance:\", out4[1]\n",
      "print \"Chi^2:\", (((sp_vol.rho - rho_pred)/sp_vol.urho)**2.).sum()/(len(sp_vol.rho) - len(out4[0]))\n",
      "print \"RMS:\", np.sqrt(np.mean((sp_vol.rho - rho_pred)**2.))\n",
      "#print \"RMS:\", np.sqrt(np.mean((sp[sp.r > 1.5].rho - poly2(best_q,sp[sp.r > 1.5].r))**2.))\n",
      "print \"********************************\"\n",
      "print \"Best Constant-Mass Density-Radius Fit:\"\n",
      "densityfunc = lambda p, x: p[0] * pow(x,-3.)\n",
      "densityerrfunc = lambda p, x, y, err: (y - densityfunc(p, x)) / err  \n",
      "out5 = leastsq(densityerrfunc, 8, args=(sp_vol.r, sp_vol.m, sp_vol.um),full_output=1)\n",
      "best_c = out5[0]\n",
      "print \"Best parameters:\", out5[0]\n",
      "print \"Covariance:\", out5[1]\n",
      "rho_pred2 = densityfunc(best_c,sp_vol.r)\n",
      "print \"Chi^2:\", (((sp_vol.rho - rho_pred2)/sp_vol.urho)**2.).sum()/(len(sp_vol.rho) - len(out5[0]))\n",
      "print \"RMS:\", np.sqrt(np.mean((sp_vol.rho - rho_pred2)**2.))"
     ],
     "language": "python",
     "metadata": {},
     "outputs": [
      {
       "output_type": "stream",
       "stream": "stdout",
       "text": [
        "Best Analytical Weighted Polynomial Fit to Density vs. Radius:\n",
        "Best parameters: [ 10.25891514  -5.53105535   0.8109818 ]\n",
        "Covariance: [array([ 612.92908097]), 3, array([  1.73174233e+00,   3.26444408e-02,   1.68386042e-03]), 9.1038288019262836e-15]\n",
        "Chi^2: 2.99812738551\n",
        "RMS: 2.79123358162\n",
        "********************************\n",
        "Best Constant-Mass Density-Radius Fit:\n",
        "Best parameters: [ 53.60393808]\n",
        "Covariance: [[ 4.0502245]]\n",
        "Chi^2: 7.03916471946\n",
        "RMS: 4.32620542717\n"
       ]
      }
     ],
     "prompt_number": 12
    },
    {
     "cell_type": "code",
     "collapsed": false,
     "input": [
      "powerlaw = lambda p, x: p[0] * x**(p[1])\n",
      "powerlaw2 = lambda p, x: pow(x,p[0])\n",
      "errfunc_plaw = lambda p, x, y, err : (y - powerlaw(p, x))/err\n",
      "errfunc_plaw2 = lambda p, x, y, err : (y - powerlaw2(p, x))/err\n",
      "\n",
      "mass_plaw = leastsq(errfunc_plaw,  [3.,1.], \n",
      "              args=(sp_vol.r, sp_vol.m, sp_vol.um),full_output=1)\n",
      "mpars = mass_plaw[0]\n",
      "mplaw = mpars[0] * pow(rarr,mpars[1])\n",
      "print \"Best Power Law Mass-Radius Relation for R >=1.5 R_E:\"\n",
      "print \"Best parameters:\", mpars\n",
      "print \"Covariance:\", mass_plaw[1]\n",
      "print \"Chi^2:\", (errfunc_plaw(mpars,sp_vol.r,sp_vol.m,sp_vol.um)**2.).sum()/(len(sp_vol.m) - len(mpars))\n",
      "print \"RMS:\", np.sqrt(np.mean((sp_vol.m - powerlaw(mpars,sp_vol.r))**2))\n",
      "\n",
      "density_plaw = leastsq(errfunc_plaw,  [8.,-1.], \n",
      "                       args=(sp_vol.r, sp_vol.rho, sp_vol.urho),full_output=1)\n",
      "dpars = density_plaw[0]\n",
      "dplaw = dpars[0] * pow(np.arange(1.4,4,0.1),dpars[1])\n",
      "print \"********************************\"\n",
      "print \"Best Power Law Density-Radius Relation for R >=1.5 R_E:\"\n",
      "print \"Best parameters:\", dpars\n",
      "print \"Covariance:\", density_plaw[1]\n",
      "print \"Chi^2:\", (errfunc_plaw(dpars,sp_vol.r,sp_vol.rho,sp_vol.urho)**2.).sum()/(len(sp_vol.m) - len(dpars))\n",
      "print \"RMS:\", np.sqrt(np.mean((sp_vol.rho - powerlaw(dpars,sp_vol.r))**2))\n",
      "#print \"RMS:\", np.sqrt(np.mean((sp[sp.r > 1.5].rho - powerlaw(dpars,sp[sp.r > 1.5].r))**2))"
     ],
     "language": "python",
     "metadata": {},
     "outputs": [
      {
       "output_type": "stream",
       "stream": "stdout",
       "text": [
        "Best Power Law Mass-Radius Relation for R >=1.5 R_E:\n",
        "Best parameters: [ 5.89094306  0.25251911]\n",
        "Covariance: [[ 0.36811003 -0.06080865]\n",
        " [-0.06080865  0.01091162]]\n",
        "Chi^2: 3.46061441886\n",
        "RMS: 4.56471675695\n",
        "********************************\n",
        "Best Power Law Density-Radius Relation for R >=1.5 R_E:\n",
        "Best parameters: [ 13.77977723  -2.10777259]\n",
        "Covariance: [[ 8.07203364 -0.49620061]\n",
        " [-0.49620061  0.03183271]]\n",
        "Chi^2: 2.62151858777\n",
        "RMS: 2.67239899771\n"
       ]
      }
     ],
     "prompt_number": 29
    },
    {
     "cell_type": "code",
     "collapsed": false,
     "input": [
      "# Fits to the rocky planets\n",
      "rocky_plaw_no_ss = leastsq(errfunc_plaw,  [1.,3.], \n",
      "              args=(sp[sp.r < 1.5].r, sp[sp.r < 1.5].m, sp[sp.r < 1.5].um),full_output=1)\n",
      "rocky_plaw = leastsq(errfunc_plaw,  [1.,3.], \n",
      "              args=(sp_rocky.r, sp_rocky.m, sp_rocky.um),full_output=1)\n",
      "rocky_pars = rocky_plaw[0]\n",
      "rocky_pars_no_ss = rocky_plaw_no_ss[0]\n",
      "rocky_r = arange(0.01,1.5,0.01)\n",
      "rockplaw = powerlaw(rocky_pars,rocky_r)\n",
      "print \"********************************\"\n",
      "print \"Rocky Mass Power Law Solution:\"\n",
      "print \"Best parameters without SS:\", rocky_pars_no_ss\n",
      "print \"Best parameters including SS:\", rocky_pars\n",
      "print \"Covariance:\", rocky_plaw[1]\n",
      "print \"Chi^2 without SS:\", (errfunc_plaw(rocky_pars_no_ss,\n",
      "                              sp[sp.r < 1.5].r,sp[sp.r < 1.5].m,\n",
      "                              sp[sp.r < 1.5].um)**2.).sum()/(len(sp[sp.r < 1.5].m) - len(mpars))\n",
      "print \"Chi^2 with SS:\", (errfunc_plaw(rocky_pars,\n",
      "                              sp_rocky.r,sp_rocky.m,\n",
      "                              sp_rocky.um)**2.).sum()/(len(sp_rocky.m) - len(rocky_pars))\n",
      "print \"Chi^2 to mr plaw without SS:\", (errfunc_plaw(mpars,\n",
      "                              sp[sp.r < 1.5].r,sp[sp.r < 1.5].m,\n",
      "                              sp[sp.r < 1.5].um)**2.).sum()/(len(sp[sp.r < 1.5].m) - len(mpars))\n",
      "print \"Chi^2 to mr plaw with SS:\", (errfunc_plaw(mpars,\n",
      "                              sp_rocky.r,sp_rocky.m,\n",
      "                              sp_rocky.um)**2.).sum()/(len(sp_rocky.m) - len(mpars))\n",
      "print \"RMS without SS:\", np.sqrt(np.mean((sp[sp.r < 1.5].m - powerlaw(mpars,sp[sp.r < 1.5].r))**2))\n",
      "print \"RMS with SS:\", np.sqrt(np.mean((sp_rocky.m - powerlaw(rocky_pars,sp_rocky.r))**2))\n",
      "\n",
      "rocky_dens = leastsq(errfunc_plaw,  [10.,-2.], \n",
      "              args=(sp_rocky.r, sp_rocky.rho, sp_rocky.urho),full_output=1)\n",
      "rocky_d = rocky_dens[0]\n",
      "rockdlaw = rocky_d[0] * pow(rocky_r,rocky_d[1])\n",
      "print \"********************************\"\n",
      "print \"Rocky Density Power Law Solution:\"\n",
      "print \"Best parameters:\", rocky_d\n",
      "print \"Covariance:\", rocky_dens[1]\n",
      "print \"Chi^2:\", (errfunc_plaw(rocky_d,\n",
      "                              sp_rocky.r,sp_rocky.rho,\n",
      "                              sp_rocky.urho)**2.).sum()/(len(sp_rocky.rho) - len(rocky_d))\n",
      "print \"RMS:\", np.sqrt(np.mean((sp_rocky[sp_rocky.rho < 100].rho - powerlaw(rocky_d,sp_rocky[sp_rocky.rho < 100].r))**2))\n",
      "\n",
      "polytrope = lambda n, x: 4/3.*pi*(x/3.90)**3.*10.55*(1. + (1. - 3./5.*n)*pow((2./3.*pi*(x/3.90)**2.),n))\n",
      "#polytrope = lambda n, x: 1. + (1. - 3./5.*n)*pow((2./3.*pi*x**2.),n)\n",
      "#polytrope = lambda k, x: pow(10,k[0]) * pow(x,1/3.)*k[2]*pow(10,k[1]*x)\n",
      "errfunc_ptrope = lambda n, x, y, err : (y - polytrope(n, x))/err\n",
      "m_polytrope = leastsq(errfunc_ptrope,  [9/3.], \n",
      "              args=(sp_rocky.r, sp_rocky.m, sp_rocky.um),full_output=1)\n",
      "ptrope = m_polytrope[0]\n",
      "print \"********************************\"\n",
      "print \"Rocky Mass Polytrope Solution:\"\n",
      "print \"Best parameter:\", ptrope\n",
      "print \"Covariance:\", m_polytrope[1]\n",
      "print \"Chi^2:\", (errfunc_ptrope(ptrope,\n",
      "                              sp_rocky.r,sp_rocky.m,\n",
      "                              sp_rocky.um)**2.).sum()/(len(sp_rocky.m) - len(ptrope))\n",
      "m_ptrope = polytrope(ptrope, rocky_r)"
     ],
     "language": "python",
     "metadata": {},
     "outputs": [
      {
       "output_type": "stream",
       "stream": "stdout",
       "text": [
        "********************************\n",
        "Rocky Mass Power Law Solution:\n",
        "Best parameters without SS: [ 0.94155531  4.0199448 ]\n",
        "Best parameters including SS: [ 1.08437388  3.44634648]\n",
        "Covariance: [[ 0.00175322  0.00051823]\n",
        " [ 0.00051823  0.0074453 ]]\n",
        "Chi^2 without SS: 0.882802840916\n",
        "Chi^2 with SS: 1.32414992188\n",
        "Chi^2 to mr plaw without SS: 11.619566121\n",
        "Chi^2 to mr plaw with SS: 37490.3313469\n",
        "RMS without SS: 4.38932880691\n",
        "RMS with SS: 2.70471648212\n",
        "********************************\n",
        "Rocky Density Power Law Solution:\n",
        "Best parameters: [ 6.12278513  0.49397137]\n",
        "Covariance: [[ 0.12627285 -0.00828115]\n",
        " [-0.00828115  0.01891567]]\n",
        "Chi^2: 0.881010851039\n",
        "RMS: 22.5740452078\n",
        "********************************\n",
        "Rocky Mass Polytrope Solution:\n",
        "Best parameter: [ 98.6838495]\n",
        "Covariance: None\n",
        "Chi^2: 3.93088038776\n"
       ]
      }
     ],
     "prompt_number": 14
    },
    {
     "cell_type": "code",
     "collapsed": false,
     "input": [
      "# find uncertainties in plaw with bootstrap\n",
      "def draw_data(x,ux):\n",
      "    x_pbs = np.array([x[i] + random.normal(ux[i]) for i in np.arange(len(x))])\n",
      "    return x_pbs\n",
      "\n",
      "def mr_bootstrap(ntrial=100):\n",
      "    # do 1000 draws and store the power law coefficients\n",
      "    mr_plaw_pbs = []\n",
      "    dr_plaw_pbs = []\n",
      "    dr_poly_pbs = []\n",
      "    mr_rocky_pbs = []\n",
      "    dr_rocky_pbs = []\n",
      "    #ums = [sp.um[i] for i in np.arange(len(sp))]\n",
      "    #uds = [sp.urho[i] for i in np.arange(len(sp))]\n",
      "    for i in xrange(0,ntrial):\n",
      "    #if \"x\"==\"x\":\n",
      "        # draw a mass and density\n",
      "        ms_vol = draw_data(sp_vol.m, sp_vol.um)\n",
      "        ds_vol = draw_data(sp_vol.rho, sp_vol.urho)\n",
      "        ms_rocky = draw_data(sp_rocky.m, sp_rocky.um)\n",
      "        ds_rocky = draw_data(sp_rocky.rho, sp_rocky.urho)\n",
      "    #    plt.errorbar(rs,ms,yerr=ums,fmt='o')\n",
      "        # calculate best fits for these m's and d's\n",
      "        mr_plaw_pbs.append(leastsq(errfunc_plaw,  [3.,1.], args=(sp_vol.r,ms_vol,sp_vol.um))[0])\n",
      "        dr_plaw_pbs.append(leastsq(errfunc_plaw,  [10.,-2.], args=(sp_vol.r,ds_vol,sp_vol.urho))[0])\n",
      "#        dr_poly_pbs.append(np.polynomial.polynomial.polyfit(sp.r, ds, 2, rcond=None, w=1./sp.urho**2.))\n",
      "        mr_rocky_pbs.append(leastsq(errfunc_plaw,  [1.,3.], args=(sp_rocky.r, ms_rocky, sp_rocky.um))[0])\n",
      "#        dr_rocky_pbs.append(leastsq(errfunc_plaw,  [10.,-2.], args=(sp_rocky.r, ds_rocky, sp_rocky.urho))[0])\n",
      "    print \"mr power law coefficients:\"\n",
      "    print \"mean:\", np.mean(mr_plaw_pbs,axis=0), \"\\t\",\"\\t\",\"std:\",np.std(mr_plaw_pbs,axis=0)\n",
      "    print \"****************************************************************\"\n",
      "    print \"dr power law coefficients:\"\n",
      "    print \"mean:\", np.mean(dr_plaw_pbs,axis=0),\"\\t\", \"\\t\",\"std:\",np.std(dr_plaw_pbs,axis=0) \n",
      "    print \"****************************************************************\"\n",
      "#    print \"dr polynomial coefficients:\"\n",
      "#    print \"mean:\", np.mean(dr_poly_pbs, axis=0),\"\\t\", \"std:\",np.std(dr_poly_pbs, axis=0)\n",
      "#    print \"*********************************************ttt*******************\"\n",
      "    print \"mr rocky power law coefficients:\"\n",
      "    print \"mean:\", np.mean(mr_rocky_pbs, axis=0),\"\\t\", \"\\t\",\"std:\", np.std(mr_rocky_pbs,axis=0)\n",
      "#    print \"****************************************************************\"\n",
      "#    print \"dr rocky power law coefficients:\"\n",
      "#    print \"mean:\", np.mean(dr_rocky_pbs,axis=0),\"\\t\",\"\\t\", \"std:\", np.std(dr_rocky_pbs,axis=0)"
     ],
     "language": "python",
     "metadata": {},
     "outputs": [],
     "prompt_number": 163
    },
    {
     "cell_type": "code",
     "collapsed": false,
     "input": [
      "#mr_bootstrap()"
     ],
     "language": "python",
     "metadata": {},
     "outputs": [
      {
       "output_type": "stream",
       "stream": "stdout",
       "text": [
        "mr power law coefficients:\n",
        "mean: [ 6.92997849  0.22502896] \t\tstd: [ 1.07785151  0.14713068]\n",
        "****************************************************************\n",
        "dr power law coefficients:\n",
        "mean: [ 48.34934688  -2.81439987] \t\tstd: [ 55.2317726    1.37407468]\n",
        "****************************************************************\n",
        "mr rocky power law coefficients:\n",
        "mean: [ 0.84554008  0.06093895] \t\tstd: [ 1.14459832  8.38267782]\n"
       ]
      }
     ],
     "prompt_number": 164
    },
    {
     "cell_type": "code",
     "collapsed": false,
     "input": [
      "# calculated predict masses, densities\n",
      "#rpred = (sp.m - best_pars[0])/best_pars[1]\n",
      "vol_mpred = powerlaw(mpars,sp_vol.r)\n",
      "#dpred = mpred*mearth/(4./3.*(rpred*rearth)**3.)\n",
      "#r_resid = sp.r - rpred\n",
      "vol_m_resid = sp_vol.m - vol_mpred\n",
      "#d_resid = sp.rho - dpred\n",
      "sp_vol['m_resid'] = vol_m_resid\n",
      "rocky_mpred = powerlaw(rocky_pars,sp_rocky.r)\n",
      "rocky_m_resid = sp_rocky.m - rocky_mpred\n",
      "sp_rocky['m_resid'] = rocky_m_resid"
     ],
     "language": "python",
     "metadata": {},
     "outputs": [],
     "prompt_number": 15
    },
    {
     "cell_type": "code",
     "collapsed": false,
     "input": [
      "# bin mass, radius, density\n",
      "rwm, rwd, urw, mw, umw, rhow, urhow = [], [], [], [], [], [], []\n",
      "for r in arange(0,4.,0.5):\n",
      "    rbin = sp.loc[r <= sp.r].loc[sp.r < r+0.5]\n",
      "    rwm.append(np.average(rbin['r'], weights = (1./rbin.um**2.)))\n",
      "    rwd.append(np.average(rbin['r'], weights = (1./rbin.urho**2.)))\n",
      "    mw.append(np.average(rbin['m'], weights = 1./rbin.um**2.))\n",
      "    rhow.append(np.average(rbin['rho'], weights = 1./rbin.urho**2.))\n",
      "    urw.append(std(rbin.r)/sqrt(len(rbin)))\n",
      "    umw.append(std(rbin.m)/sqrt(len(rbin)))\n",
      "    urhow.append(std(rbin.rho)/sqrt(len(rbin)))\n",
      "means = pd.DataFrame({'r_m':rwm, 'r_d':rwd, 'ur':urw, 'm':mw, 'um':umw, 'rho':rhow, 'urho':urhow})"
     ],
     "language": "python",
     "metadata": {},
     "outputs": [],
     "prompt_number": 16
    },
    {
     "cell_type": "code",
     "collapsed": false,
     "input": [
      "# Calculate Earth composition from Seager 2007\n",
      "# this is good for Ms < 4\n",
      "m1 = 6.41; r1 = 3.3 # values for 32.5% Fe, 67.5% MgSiO3\n",
      "k1 = -0.20945; k2 = 0.0804; k3 = 0.394 # k for differentiated planet\n",
      "m_phys = np.logspace(-3, 0.85, num=50)\n",
      "ms = m_phys/m1\n",
      "k = np.array([k1,k2,k3])\n",
      "logrs = lambda k, ms: k[0] + 1/3. * np.log10(ms) - k[1] * ms**k[2]\n",
      "rs = pow(10.,logrs(k, ms))\n",
      "#print max(ms), max(rs*r1)\n",
      "m_seager = ms*m1; r_seager = rs*r1\n",
      "d_seager = m_seager/(r_seager**3.)*5.522\n",
      "#print zip(r_seager,d_seager)\n",
      "print \"Seager k values for Earth composition:\", k\n",
      "print \"Masses scaled to:\", m1, \"Radii Scaled to:\", r1, \"(Earth units)\"\n",
      "print \"Seager radius of Earth at 1 Earth mass:\", pow(10,logrs(k, 1./m1))*r1, \" x Earth radius\"\n",
      "print \"Seager density of Earth at 1 Earth mass:\", pow(pow(10,logrs(k, 1./m1))*r1,3.), \" x Earth density\""
     ],
     "language": "python",
     "metadata": {},
     "outputs": [
      {
       "output_type": "stream",
       "stream": "stdout",
       "text": [
        "Seager k values for Earth composition: [-0.20945  0.0804   0.394  ]\n",
        "Masses scaled to: 6.41 Radii Scaled to: 3.3 (Earth units)\n",
        "Seager radius of Earth at 1 Earth mass: 1.0033282968  x Earth radius\n",
        "Seager density of Earth at 1 Earth mass: 1.01001815994  x Earth density\n"
       ]
      }
     ],
     "prompt_number": 58
    },
    {
     "cell_type": "code",
     "collapsed": false,
     "input": [
      "wm = 1./sp.um\n",
      "wd = 1./sp.urho\n",
      "#fig = plt.figure();\n",
      "#ax1 = fig.add_subplot(121)\n",
      "#ax1.scatter(sp.r,wm)\n",
      "#ax2 = fig.add_subplot(122)\n",
      "#ax2.scatter(sp.r,wd)"
     ],
     "language": "python",
     "metadata": {},
     "outputs": [],
     "prompt_number": 18
    },
    {
     "cell_type": "code",
     "collapsed": false,
     "input": [
      "%pylab inline\n",
      "def plot_mr():\n",
      "    fig = plt.figure();\n",
      "    sharex=True;\n",
      "    ax1 = fig.add_subplot(1,2,1);\n",
      "    ax1.plot(r_seager, m_seager, '--g', linewidth=4, label=('Earth Comp. (Seager 2007)'))\n",
      "    ax1.scatter(sp.r[sp.ttv==0], sp.m[sp.ttv==0], s=10*wm[sp.ttv==0]/median(wm), alpha=1.0, color='gray', label='RVs');\n",
      "    ax1.plot(rarr, mplaw, '--k', linewidth=4, label=(\"M = %.2f * R^ %.2f\"% (mpars[0], mpars[1])));\n",
      "#    ax1.plot(rocky_r, rockplaw, '--g', linewidth=4, label=(\"M = %.2f R^ %.2f\"% (rocky_pars[0], rocky_pars[1])));\n",
      "    ax1.errorbar(means.r_m,means.m, xerr=means.ur, yerr=means.um, \n",
      "             markersize=7, marker='s',fmt='o', capsize=0, elinewidth=4, alpha = 1.0, label=('Wtd. Mean Mass'));\n",
      "    ax1.scatter(sp.r[sp.ttv==1], sp.m[sp.ttv==1], s=5*wm[sp.ttv==1]/median(wm), alpha=1.0, color='orange', label='TTVs');    ax1.set_xlabel('Planet Radius ($\\mathrm{R_E}$)',fontsize=24);\n",
      "    ax1.set_ylabel('Planet Mass ($\\mathrm{M_E})$',fontsize=24);\n",
      "    ax1.scatter(ss.r, ss.m, color='blue',marker='d',s=70, label=('Sol. Sys.'));\n",
      "    ax1.legend(loc='upper left', markerscale=0.5, fontsize=10);\n",
      "    ax1.tick_params(axis='x', labelsize=15)\n",
      "    ax1.tick_params(axis='y', labelsize=15)\n",
      "    plt.axis([0.0,4.1,-3,20]);\n",
      "\n",
      "    ax2 = fig.add_subplot(1,2,2);\n",
      "    ax2.plot(r_seager,d_seager, '--g', linewidth=4, label=('Earth Comp. (Seager 2007)'));\n",
      "    ax2.scatter(sp.r[sp.ttv==0], sp.rho[sp.ttv==0], s=5*wd[sp.ttv==0]/median(wd), alpha=1.0, color='gray', label='RVs');\n",
      "    ax2.plot(np.arange(1.4,4,0.1), dplaw, '--k', linewidth=4, label=(\"Rho = %.2f * R^ %.2f\"% (dpars[0], dpars[1])));\n",
      "    ax2.set_xlabel('Planet Radius ($\\mathrm{R_E}$)',fontsize=24);\n",
      "    ax2.set_ylabel('Planet Density ($\\mathrm{g/cm^{3}}$)',fontsize=24);\n",
      "    ax2.errorbar(means.r_d[means.r_d > 1.0],means.rho[means.r_d > 1.0], xerr=means.ur[means.r_d > 1.0], yerr=means.urho[means.r_d > 1.0], \n",
      "             markersize=7, marker='s', fmt='o', capsize=0, elinewidth=4, alpha=1.0, label=('Wtd. Mean Density'));\n",
      "    ax2.scatter(sp.r[sp.ttv==1], sp.rho[sp.ttv==1], s=10*wd[sp.ttv==1]/median(wd), alpha=1.0, color='orange', label='TTVs');\n",
      "    ax2.scatter(ss.r, ss.rho, color='blue',marker='d',s=70, label=('Sol. Sys.'));\n",
      "    plt.axis([0.,4.0,-1,15]);\n",
      "    ax2.legend(markerscale=0.5, fontsize=10);\n",
      "    ax2.tick_params(axis='x', labelsize=15)\n",
      "    ax2.tick_params(axis='y', labelsize=15)\n",
      "    fig.set_size_inches(12,6);\n",
      "    subplots_adjust(wspace=0.3);\n",
      "    subplots_adjust(hspace=0.2);\n",
      "    plt.savefig('mr_small.png', dpi=100)\n",
      "    plt.savefig('mr_small.eps', format='eps', dpi=100)\n",
      "    plt.show()\n",
      "plot_mr()"
     ],
     "language": "python",
     "metadata": {},
     "outputs": [
      {
       "output_type": "stream",
       "stream": "stdout",
       "text": [
        "Populating the interactive namespace from numpy and matplotlib\n"
       ]
      },
      {
       "metadata": {},
       "output_type": "display_data",
       "png": "[encoded data removed]",
       "text": [
        "<matplotlib.figure.Figure at 0x110903090>"
       ]
      }
     ],
     "prompt_number": 59
    },
    {
     "cell_type": "code",
     "collapsed": false,
     "input": [
      "#%matplotlib osx\n",
      "fig = plt.figure(figsize=(8,8));\n",
      "ax = fig.add_subplot(111,xscale='log');\n",
      "rho_resid = sp.rho - rho_pred\n",
      "#notnan = numpy.logical_not(numpy.isnan(sp.flux))\n",
      "ax.errorbar(sp_clean.flux, sp_clean.rho, \n",
      "            xerr=sp_clean.uflux, yerr=sp_clean.urho, \n",
      "            fmt='o', alpha = 0.5, capsize=0);\n",
      "ax.set_xlabel('Flux (Earth flux)', fontsize=18);\n",
      "ax.set_ylabel('Planet Density (g/cc)', fontsize=18);\n",
      "pyplot.axis([0,4000,-5,15])\n",
      "fig.show();\n",
      "pearsonr(sp_clean.flux, sp_clean.rho)  "
     ],
     "language": "python",
     "metadata": {},
     "outputs": [
      {
       "metadata": {},
       "output_type": "pyout",
       "prompt_number": 58,
       "text": [
        "(0.22574352698770739, 0.11495721976451989)"
       ]
      },
      {
       "metadata": {},
       "output_type": "display_data",
       "png": "[encoded data removed]",
       "text": [
        "<matplotlib.figure.Figure at 0x111a60310>"
       ]
      }
     ],
     "prompt_number": 58
    },
    {
     "cell_type": "code",
     "collapsed": false,
     "input": [
      "#plot residuals\n",
      "def plot_residuals(sp=sp_conglom):\n",
      "    '''Plot M-R residuals vs. other physical parameters'''\n",
      "    fig = plt.figure(figsize=(14,14));\n",
      "    xarr = [sp.per, sp.a, sp.flux, sp.mstar, sp.rstar, sp.logg, sp.fe, sp.age, sp.vsini]\n",
      "    xarr_err = [None, sp.ua, sp.uflux, sp.umstar, sp.urstar, \n",
      "            None, sp.ufe, None, None]\n",
      "    xtit = ['Period (d)','a (AU)','Flux (Earth)',\n",
      "        '$M_\\star$ ($\\mathrm{M_{Sun}}$)','$R_\\star$ ($\\mathrm{R_{Sun}}$)','log(g)',\n",
      "        '[Fe/H]','Age (Gyr)','Vsini (km/s)']\n",
      "    xscale = ['log','log','log','linear','linear','linear','linear','linear','log']\n",
      "    fig, axarr = plt.subplots(3, 3, sharey=True);\n",
      "    ys = sp.m_resid\n",
      "    yerr = sp.um\n",
      "    yttv = ys[sp.ttv==1]\n",
      "    yerrttv = yerr[sp.ttv==1]\n",
      "    for i in xrange(0,3):\n",
      "        for j in xrange(0,3):\n",
      "            xs = xarr[3*i + j]\n",
      "            xttv = xs[sp.ttv==1]\n",
      "            xerr = xarr_err[3*i + j]\n",
      "            axarr[i,j].errorbar(xs,ys, xerr=xerr, yerr=yerr, alpha = 1.0, marker='o', fmt='o', c='gray');\n",
      "            if len(xttv) > 0:\n",
      "                if xerr is not None: xerrttv = xerr[sp.ttv==1] \n",
      "                else: xerrttv=None\n",
      "            axarr[i,j].errorbar(xttv,yttv,xerr=xerrttv,yerr=yerrttv, \n",
      "                            alpha = 1.0, marker='o', fmt='o', c='orange');\n",
      "            if xscale[3*i + j]=='log': axarr[i,j].set_xscale('log')\n",
      "            if j==0: axarr[i,j].set_ylabel('Residual Mass ($\\mathrm{M_E}$)', fontsize=16);\n",
      "            axarr[i,j].set_xlabel(xtit[3*i+j], fontsize=16);\n",
      "            axarr[i,j].tick_params(axis='x', labelsize=12)\n",
      "            axarr[i,j].tick_params(axis='y', labelsize=12)\n",
      "    fig.set_size_inches(12,12);\n",
      "    subplots_adjust(wspace=0.1);\n",
      "    subplots_adjust(hspace=0.5);\n",
      "    #fig.ylabel('Residual Mass')\n",
      "    fig.show()\n",
      "    plt.savefig('mr_resids.png',dpi=100);\n",
      "    plt.savefig('mr_resids.eps', format='eps', dpi=100);"
     ],
     "language": "python",
     "metadata": {},
     "outputs": [],
     "prompt_number": 21
    },
    {
     "cell_type": "code",
     "collapsed": false,
     "input": [
      "from scipy.stats import ttest_ind\n",
      "ttest_ind(sp.m_resid.loc[sp.ttv==0].loc[sp.r > 1.0], sp.m_resid.loc[sp.ttv==1].loc[sp.r > 1.0])"
     ],
     "language": "python",
     "metadata": {},
     "outputs": [
      {
       "metadata": {},
       "output_type": "pyout",
       "prompt_number": 84,
       "text": [
        "(array(1.8792539466899367), 0.066163877487777051)"
       ]
      }
     ],
     "prompt_number": 84
    },
    {
     "cell_type": "code",
     "collapsed": false,
     "input": [
      "notnan = np.logical_not(np.isnan(sp.fe))\n",
      "fe_r = pearsonr(sp[notnan].fe,m_resid[notnan])\n",
      "print \"r = \",fe_r[0], \"p =\",1-fe_r[1]\n",
      "print \"Prob. Fe and resid correlation is real:\",(1.-fe_r[1])**9."
     ],
     "language": "python",
     "metadata": {},
     "outputs": [
      {
       "output_type": "stream",
       "stream": "stdout",
       "text": [
        "r =  0.249335976621 p = 0.936141040611\n",
        "Prob. Fe and resid correlation is real: 0.552168423069\n"
       ]
      }
     ],
     "prompt_number": 99
    },
    {
     "cell_type": "code",
     "collapsed": false,
     "input": [
      "# test polynomial fitting\n",
      "%matplotlib osx\n",
      "my_poly = lambda x: 14 - 8 * x + 2 * x**2.\n",
      "x = arange(0,4.1,0.1)\n",
      "y = my_poly(x)\n",
      "noise = np.random.normal(0,3,len(y))\n",
      "noisy_data = y + noise\n",
      "out5 = np.polynomial.polynomial.polyfit(x,noisy_data, 2, rcond=None, full=True)\n",
      "my_pars = out5[0]\n",
      "fig = plt.figure();\n",
      "ax = fig.add_subplot(111);\n",
      "ax.errorbar(x, noisy_data, yerr=[1.]*len(x), fmt='o', markersize=5, \n",
      "             alpha =0.5, color='k', capsize=0, elinewidth=2); # black option\n",
      "ax.plot(x,y,label=(\"y = %.1f + %.1f x + %.1f x^2\" % (my_pars[0], my_pars[1], my_pars[2])))\n",
      "for r in xrange(0,4):\n",
      "    mask = (r < x) & (x < r+1)\n",
      "    xbin,ybin,yerr = x[mask],noisy_data[mask],noise[mask]\n",
      "    ax.scatter((np.average(xbin, weights = (1./yerr**2.))),(np.average(ybin, weights = 1./yerr**2.)), s=100)\n",
      "ax.legend();\n",
      "plt.show();"
     ],
     "language": "python",
     "metadata": {},
     "outputs": [],
     "prompt_number": 557
    },
    {
     "cell_type": "code",
     "collapsed": false,
     "input": [
      "len(df)"
     ],
     "language": "python",
     "metadata": {},
     "outputs": [
      {
       "metadata": {},
       "output_type": "pyout",
       "prompt_number": 88,
       "text": [
        "251"
       ]
      }
     ],
     "prompt_number": 88
    },
    {
     "cell_type": "code",
     "collapsed": false,
     "input": [
      "notnan = numpy.logical_not(numpy.isnan(sp.fe))\n",
      "from scipy.stats.stats import pearsonr\n",
      "pearsonr(sp[notnan].fe, m_resid[notnan])"
     ],
     "language": "python",
     "metadata": {},
     "outputs": [
      {
       "metadata": {},
       "output_type": "pyout",
       "prompt_number": 89,
       "text": [
        "(0.2493359766210381, 0.063858959389128625)"
       ]
      }
     ],
     "prompt_number": 89
    },
    {
     "cell_type": "code",
     "collapsed": false,
     "input": [
      "from scipy.stats import linregress"
     ],
     "language": "python",
     "metadata": {},
     "outputs": [],
     "prompt_number": 90
    },
    {
     "cell_type": "code",
     "collapsed": false,
     "input": [
      "linregress(sp.r, sp.m)"
     ],
     "language": "python",
     "metadata": {},
     "outputs": [
      {
       "metadata": {},
       "output_type": "pyout",
       "prompt_number": 91,
       "text": [
        "(3.0341733413582141,\n",
        " -0.56592370598870456,\n",
        " 0.57924030906542978,\n",
        " 6.5705831049559961e-07,\n",
        " 0.54671107053619283)"
       ]
      }
     ],
     "prompt_number": 91
    },
    {
     "cell_type": "code",
     "collapsed": false,
     "input": [
      "print ssxx/n"
     ],
     "language": "python",
     "metadata": {},
     "outputs": [
      {
       "output_type": "stream",
       "stream": "stdout",
       "text": [
        "0.729295773867\n"
       ]
      }
     ],
     "prompt_number": 22
    },
    {
     "cell_type": "code",
     "collapsed": false,
     "input": [
      "print np.mean(sp.ur**2.)"
     ],
     "language": "python",
     "metadata": {},
     "outputs": [
      {
       "output_type": "stream",
       "stream": "stdout",
       "text": [
        "0.0186294088591\n"
       ]
      }
     ],
     "prompt_number": 23
    },
    {
     "cell_type": "code",
     "collapsed": false,
     "input": [
      "from scipy import stats"
     ],
     "language": "python",
     "metadata": {},
     "outputs": [],
     "prompt_number": 24
    },
    {
     "cell_type": "code",
     "collapsed": false,
     "input": [
      "import scikits.statsmodels.api as sm"
     ],
     "language": "python",
     "metadata": {},
     "outputs": [],
     "prompt_number": 25
    },
    {
     "cell_type": "code",
     "collapsed": false,
     "input": [
      "sm.add_constant(sp.r)\n",
      "model = sm.WLS(sp.m,sp.r,1./sp.um**2.)\n",
      "result = model.fit()"
     ],
     "language": "python",
     "metadata": {},
     "outputs": [
      {
       "output_type": "stream",
       "stream": "stdout",
       "text": [
        "WARNING: FutureWarning: The default of `prepend` will be changed to True in the next release, use explicit prepend [scikits.statsmodels.tools.tools]\n"
       ]
      }
     ],
     "prompt_number": 26
    },
    {
     "cell_type": "code",
     "collapsed": false,
     "input": [
      "result.params"
     ],
     "language": "python",
     "metadata": {},
     "outputs": [
      {
       "metadata": {},
       "output_type": "pyout",
       "prompt_number": 27,
       "text": [
        "array([ 2.72064592])"
       ]
      }
     ],
     "prompt_number": 27
    },
    {
     "cell_type": "code",
     "collapsed": false,
     "input": [
      "from scipy.stats import t as studentt"
     ],
     "language": "python",
     "metadata": {},
     "outputs": [],
     "prompt_number": 219
    },
    {
     "cell_type": "code",
     "collapsed": false,
     "input": [
      "from scipy.interpolate import interp1d, UnivariateSpline"
     ],
     "language": "python",
     "metadata": {},
     "outputs": [],
     "prompt_number": 32
    },
    {
     "cell_type": "code",
     "collapsed": false,
     "input": [
      "interp1d(m_seager, r_seager)"
     ],
     "language": "python",
     "metadata": {},
     "outputs": [],
     "prompt_number": 33
    },
    {
     "cell_type": "code",
     "collapsed": false,
     "input": [
      "fit = UnivariateSpline(sp_rsort.r, sp_rsort.rho, 1./sp_rsort.urho**2., k=2)\n",
      "min(sp.r), max(sp.r)"
     ],
     "language": "python",
     "metadata": {},
     "outputs": [
      {
       "metadata": {},
       "output_type": "pyout",
       "prompt_number": 112,
       "text": [
        "(0.32000000000000001, 3.896521926592559)"
       ]
      }
     ],
     "prompt_number": 112
    },
    {
     "cell_type": "code",
     "collapsed": false,
     "input": [
      "xnew = np.arange(0.33,3.89,0.1)\n",
      "print xnew\n",
      "ynew = fit(xnew)\n",
      "#plt.plot(sp.r, sp.rho, 'o')\n",
      "plt.plot(xnew, ynew, '--')"
     ],
     "language": "python",
     "metadata": {},
     "outputs": [
      {
       "output_type": "stream",
       "stream": "stdout",
       "text": [
        "[ 0.33  0.43  0.53  0.63  0.73  0.83  0.93  1.03  1.13  1.23  1.33  1.43\n",
        "  1.53  1.63  1.73  1.83  1.93  2.03  2.13  2.23  2.33  2.43  2.53  2.63\n",
        "  2.73  2.83  2.93  3.03  3.13  3.23  3.33  3.43  3.53  3.63  3.73  3.83]\n"
       ]
      },
      {
       "metadata": {},
       "output_type": "pyout",
       "prompt_number": 113,
       "text": [
        "[<matplotlib.lines.Line2D at 0x111f4e190>]"
       ]
      },
      {
       "metadata": {},
       "output_type": "display_data",
       "png": "[encoded data removed]",
       "text": [
        "<matplotlib.figure.Figure at 0x111677510>"
       ]
      }
     ],
     "prompt_number": 113
    },
    {
     "cell_type": "code",
     "collapsed": false,
     "input": [
      "sp_rsort = sp.sort(columns='r')"
     ],
     "language": "python",
     "metadata": {},
     "outputs": [],
     "prompt_number": 68
    },
    {
     "cell_type": "code",
     "collapsed": false,
     "input": [
      "sp_conglom = sp_rocky.append(sp_vol)"
     ],
     "language": "python",
     "metadata": {},
     "outputs": [],
     "prompt_number": 81
    },
    {
     "cell_type": "code",
     "collapsed": false,
     "input": [
      "len(sp_conglom)"
     ],
     "language": "python",
     "metadata": {},
     "outputs": [
      {
       "metadata": {},
       "output_type": "pyout",
       "prompt_number": 82,
       "text": [
        "67"
       ]
      }
     ],
     "prompt_number": 82
    },
    {
     "cell_type": "code",
     "collapsed": false,
     "input": [
      "sp_conglom"
     ],
     "language": "python",
     "metadata": {},
     "outputs": [
      {
       "html": [
        "<pre>\n",
        "&lt;class 'pandas.core.frame.DataFrame'&gt;\n",
        "Index: 67 entries, KOI-116.03  to Kepler-68 b\n",
        "Data columns (total 71 columns):\n",
        "a               67  non-null values\n",
        "age             53  non-null values\n",
        "alower          18  non-null values\n",
        "aupper          18  non-null values\n",
        "b               40  non-null values\n",
        "dec             40  non-null values\n",
        "density         18  non-null values\n",
        "densitylower    18  non-null values\n",
        "densityupper    18  non-null values\n",
        "ecc             63  non-null values\n",
        "evap            49  non-null values\n",
        "fe              60  non-null values\n",
        "feh             40  non-null values\n",
        "felower         15  non-null values\n",
        "feupper         15  non-null values\n",
        "firstref        63  non-null values\n",
        "firsturl        18  non-null values\n",
        "flux            67  non-null values\n",
        "k               40  non-null values\n",
        "kid             40  non-null values\n",
        "koi_star        40  non-null values\n",
        "logg            60  non-null values\n",
        "m               67  non-null values\n",
        "m_resid         41  non-null values\n",
        "mass            18  non-null values\n",
        "masslower       18  non-null values\n",
        "massupper       18  non-null values\n",
        "mstar           63  non-null values\n",
        "mstarlower      18  non-null values\n",
        "mstarupper      18  non-null values\n",
        "mupper          40  non-null values\n",
        "orbref          63  non-null values\n",
        "orburl          18  non-null values\n",
        "per             67  non-null values\n",
        "r               67  non-null values\n",
        "ra              40  non-null values\n",
        "rho             67  non-null values\n",
        "rhostar         55  non-null values\n",
        "rlower          18  non-null values\n",
        "rprs            40  non-null values\n",
        "rstar           63  non-null values\n",
        "rstarlower      18  non-null values\n",
        "rstarupper      18  non-null values\n",
        "rupper          18  non-null values\n",
        "shk             2  non-null values\n",
        "source          40  non-null values\n",
        "teff            63  non-null values\n",
        "tefflower       18  non-null values\n",
        "teffupper       18  non-null values\n",
        "tt              40  non-null values\n",
        "ttv             63  non-null values\n",
        "ua              23  non-null values\n",
        "ub              40  non-null values\n",
        "udensity        18  non-null values\n",
        "ufe             56  non-null values\n",
        "ufeh            40  non-null values\n",
        "uflux           23  non-null values\n",
        "uk              40  non-null values\n",
        "ulogg           44  non-null values\n",
        "um              67  non-null values\n",
        "umass           18  non-null values\n",
        "umstar          63  non-null values\n",
        "ur              67  non-null values\n",
        "urho            67  non-null values\n",
        "urholower       1  non-null values\n",
        "urhostar        40  non-null values\n",
        "urhoupper       1  non-null values\n",
        "urstar          63  non-null values\n",
        "uteff           63  non-null values\n",
        "vmag            40  non-null values\n",
        "vsini           54  non-null values\n",
        "dtypes: float64(63), object(8)\n",
        "</pre>"
       ],
       "metadata": {},
       "output_type": "pyout",
       "prompt_number": 83,
       "text": [
        "<class 'pandas.core.frame.DataFrame'>\n",
        "Index: 67 entries, KOI-116.03  to Kepler-68 b\n",
        "Data columns (total 71 columns):\n",
        "a               67  non-null values\n",
        "age             53  non-null values\n",
        "alower          18  non-null values\n",
        "aupper          18  non-null values\n",
        "b               40  non-null values\n",
        "dec             40  non-null values\n",
        "density         18  non-null values\n",
        "densitylower    18  non-null values\n",
        "densityupper    18  non-null values\n",
        "ecc             63  non-null values\n",
        "evap            49  non-null values\n",
        "fe              60  non-null values\n",
        "feh             40  non-null values\n",
        "felower         15  non-null values\n",
        "feupper         15  non-null values\n",
        "firstref        63  non-null values\n",
        "firsturl        18  non-null values\n",
        "flux            67  non-null values\n",
        "k               40  non-null values\n",
        "kid             40  non-null values\n",
        "koi_star        40  non-null values\n",
        "logg            60  non-null values\n",
        "m               67  non-null values\n",
        "m_resid         41  non-null values\n",
        "mass            18  non-null values\n",
        "masslower       18  non-null values\n",
        "massupper       18  non-null values\n",
        "mstar           63  non-null values\n",
        "mstarlower      18  non-null values\n",
        "mstarupper      18  non-null values\n",
        "mupper          40  non-null values\n",
        "orbref          63  non-null values\n",
        "orburl          18  non-null values\n",
        "per             67  non-null values\n",
        "r               67  non-null values\n",
        "ra              40  non-null values\n",
        "rho             67  non-null values\n",
        "rhostar         55  non-null values\n",
        "rlower          18  non-null values\n",
        "rprs            40  non-null values\n",
        "rstar           63  non-null values\n",
        "rstarlower      18  non-null values\n",
        "rstarupper      18  non-null values\n",
        "rupper          18  non-null values\n",
        "shk             2  non-null values\n",
        "source          40  non-null values\n",
        "teff            63  non-null values\n",
        "tefflower       18  non-null values\n",
        "teffupper       18  non-null values\n",
        "tt              40  non-null values\n",
        "ttv             63  non-null values\n",
        "ua              23  non-null values\n",
        "ub              40  non-null values\n",
        "udensity        18  non-null values\n",
        "ufe             56  non-null values\n",
        "ufeh            40  non-null values\n",
        "uflux           23  non-null values\n",
        "uk              40  non-null values\n",
        "ulogg           44  non-null values\n",
        "um              67  non-null values\n",
        "umass           18  non-null values\n",
        "umstar          63  non-null values\n",
        "ur              67  non-null values\n",
        "urho            67  non-null values\n",
        "urholower       1  non-null values\n",
        "urhostar        40  non-null values\n",
        "urhoupper       1  non-null values\n",
        "urstar          63  non-null values\n",
        "uteff           63  non-null values\n",
        "vmag            40  non-null values\n",
        "vsini           54  non-null values\n",
        "dtypes: float64(63), object(8)"
       ]
      }
     ],
     "prompt_number": 83
    },
    {
     "cell_type": "code",
     "collapsed": false,
     "input": [
      "len(ttvs)"
     ],
     "language": "python",
     "metadata": {},
     "outputs": [
      {
       "metadata": {},
       "output_type": "pyout",
       "prompt_number": 85,
       "text": [
        "10"
       ]
      }
     ],
     "prompt_number": 85
    },
    {
     "cell_type": "code",
     "collapsed": false,
     "input": [
      "ttvs.r"
     ],
     "language": "python",
     "metadata": {},
     "outputs": [
      {
       "metadata": {},
       "output_type": "pyout",
       "prompt_number": 87,
       "text": [
        "Kepler-11 b    1.800000\n",
        "Kepler-11 c    2.870000\n",
        "Kepler-11 d    3.120000\n",
        "Kepler-11 f    2.490000\n",
        "Kepler-30 b    3.896522\n",
        "Kepler-36 b    1.484674\n",
        "Kepler-36 c    3.675716\n",
        "KOI-152 b      3.470000\n",
        "KOI-152 c      3.720000\n",
        "KOI-152 e      3.490000\n",
        "Name: r, dtype: float64"
       ]
      }
     ],
     "prompt_number": 87
    },
    {
     "cell_type": "code",
     "collapsed": false,
     "input": [
      "plot_mr()"
     ],
     "language": "python",
     "metadata": {},
     "outputs": [
      {
       "metadata": {},
       "output_type": "display_data",
       "png": "[encoded data removed]",
       "text": [
        "<matplotlib.figure.Figure at 0x110c0dfd0>"
       ]
      }
     ],
     "prompt_number": 38
    },
    {
     "cell_type": "code",
     "collapsed": false,
     "input": [
      "sp_conglom = sp_conglom = sp[sp.r < 1.5].append(sp_vol)\n",
      "plot_residuals(sp=sp_conglom)"
     ],
     "language": "python",
     "metadata": {},
     "outputs": [
      {
       "output_type": "stream",
       "stream": "stderr",
       "text": [
        "/Users/lweiss/Library/Enthought/Canopy_64bit/User/lib/python2.7/site-packages/matplotlib/figure.py:371: UserWarning: matplotlib is currently using a non-GUI backend, so cannot show the figure\n",
        "  \"matplotlib is currently using a non-GUI backend, \"\n"
       ]
      },
      {
       "metadata": {},
       "output_type": "display_data",
       "text": [
        "<matplotlib.figure.Figure at 0x10f9a3090>"
       ]
      },
      {
       "metadata": {},
       "output_type": "display_data",
       "png": "[encoded data removed]",
       "text": [
        "<matplotlib.figure.Figure at 0x1081fec90>"
       ]
      }
     ],
     "prompt_number": 22
    },
    {
     "cell_type": "code",
     "collapsed": false,
     "input": [
      "len(sp_conglom)"
     ],
     "language": "python",
     "metadata": {},
     "outputs": [
      {
       "metadata": {},
       "output_type": "pyout",
       "prompt_number": 117,
       "text": [
        "63"
       ]
      }
     ],
     "prompt_number": 117
    },
    {
     "cell_type": "code",
     "collapsed": false,
     "input": [
      "sp_rocky.r"
     ],
     "language": "python",
     "metadata": {},
     "outputs": [
      {
       "metadata": {},
       "output_type": "pyout",
       "prompt_number": 121,
       "text": [
        "name\n",
        "KOI-116.03      0.820000\n",
        "KOI-116.04      0.950000\n",
        "KOI-1442.01     1.070000\n",
        "KOI-1612.01     0.820000\n",
        "KOI-1925.01     1.190000\n",
        "KOI-245.02      0.750000\n",
        "KOI-245.03      0.320000\n",
        "KOI-246.02      1.000000\n",
        "KOI-283.02      0.840000\n",
        "KOI-292.01      1.480000\n",
        "KOI-305.01      1.480000\n",
        "KOI-321.01      1.430000\n",
        "KOI-321.02      0.850000\n",
        "KOI-41.02       1.320000\n",
        "KOI-82.02       1.180000\n",
        "KOI-82.03       0.880000\n",
        "KOI-82.04       0.580000\n",
        "KOI-82.05       0.470000\n",
        "Kepler-10 b     1.460000\n",
        "Kepler-36 b     1.484674\n",
        "Kepler-68 c     0.952149\n",
        "Kepler-78 b     1.200000\n",
        "Me              0.383000\n",
        "V               0.950000\n",
        "E               1.000000\n",
        "Ma              0.532000\n",
        "Name: r, dtype: float64"
       ]
      }
     ],
     "prompt_number": 121
    },
    {
     "cell_type": "code",
     "collapsed": false,
     "input": [
      "pow(2,-3)"
     ],
     "language": "python",
     "metadata": {},
     "outputs": [
      {
       "metadata": {},
       "output_type": "pyout",
       "prompt_number": 156,
       "text": [
        "0.125"
       ]
      }
     ],
     "prompt_number": 156
    },
    {
     "cell_type": "code",
     "collapsed": false,
     "input": [
      "long_r = np.array([rocky_r, rarr])"
     ],
     "language": "python",
     "metadata": {},
     "outputs": [],
     "prompt_number": 203
    },
    {
     "cell_type": "code",
     "collapsed": false,
     "input": [
      "long_r.ravel()"
     ],
     "language": "python",
     "metadata": {},
     "outputs": [
      {
       "metadata": {},
       "output_type": "pyout",
       "prompt_number": 207,
       "text": [
        "array([ array([ 0.01,  0.02,  0.03,  0.04,  0.05,  0.06,  0.07,  0.08,  0.09,\n",
        "        0.1 ,  0.11,  0.12,  0.13,  0.14,  0.15,  0.16,  0.17,  0.18,\n",
        "        0.19,  0.2 ,  0.21,  0.22,  0.23,  0.24,  0.25,  0.26,  0.27,\n",
        "        0.28,  0.29,  0.3 ,  0.31,  0.32,  0.33,  0.34,  0.35,  0.36,\n",
        "        0.37,  0.38,  0.39,  0.4 ,  0.41,  0.42,  0.43,  0.44,  0.45,\n",
        "        0.46,  0.47,  0.48,  0.49,  0.5 ,  0.51,  0.52,  0.53,  0.54,\n",
        "        0.55,  0.56,  0.57,  0.58,  0.59,  0.6 ,  0.61,  0.62,  0.63,\n",
        "        0.64,  0.65,  0.66,  0.67,  0.68,  0.69,  0.7 ,  0.71,  0.72,\n",
        "        0.73,  0.74,  0.75,  0.76,  0.77,  0.78,  0.79,  0.8 ,  0.81,\n",
        "        0.82,  0.83,  0.84,  0.85,  0.86,  0.87,  0.88,  0.89,  0.9 ,\n",
        "        0.91,  0.92,  0.93,  0.94,  0.95,  0.96,  0.97,  0.98,  0.99,\n",
        "        1.  ,  1.01,  1.02,  1.03,  1.04,  1.05,  1.06,  1.07,  1.08,\n",
        "        1.09,  1.1 ,  1.11,  1.12,  1.13,  1.14,  1.15,  1.16,  1.17,\n",
        "        1.18,  1.19,  1.2 ,  1.21,  1.22,  1.23,  1.24,  1.25,  1.26,\n",
        "        1.27,  1.28,  1.29,  1.3 ,  1.31,  1.32,  1.33,  1.34,  1.35,\n",
        "        1.36,  1.37,  1.38,  1.39,  1.4 ,  1.41,  1.42,  1.43,  1.44,\n",
        "        1.45,  1.46,  1.47,  1.48,  1.49]),\n",
        "       array([ 1.5  ,  1.525,  1.55 ,  1.575,  1.6  ,  1.625,  1.65 ,  1.675,\n",
        "        1.7  ,  1.725,  1.75 ,  1.775,  1.8  ,  1.825,  1.85 ,  1.875,\n",
        "        1.9  ,  1.925,  1.95 ,  1.975,  2.   ,  2.025,  2.05 ,  2.075,\n",
        "        2.1  ,  2.125,  2.15 ,  2.175,  2.2  ,  2.225,  2.25 ,  2.275,\n",
        "        2.3  ,  2.325,  2.35 ,  2.375,  2.4  ,  2.425,  2.45 ,  2.475,\n",
        "        2.5  ,  2.525,  2.55 ,  2.575,  2.6  ,  2.625,  2.65 ,  2.675,\n",
        "        2.7  ,  2.725,  2.75 ,  2.775,  2.8  ,  2.825,  2.85 ,  2.875,\n",
        "        2.9  ,  2.925,  2.95 ,  2.975,  3.   ,  3.025,  3.05 ,  3.075,\n",
        "        3.1  ,  3.125,  3.15 ,  3.175,  3.2  ,  3.225,  3.25 ,  3.275,\n",
        "        3.3  ,  3.325,  3.35 ,  3.375,  3.4  ,  3.425,  3.45 ,  3.475,\n",
        "        3.5  ,  3.525,  3.55 ,  3.575,  3.6  ,  3.625,  3.65 ,  3.675,\n",
        "        3.7  ,  3.725,  3.75 ,  3.775,  3.8  ,  3.825,  3.85 ,  3.875,\n",
        "        3.9  ,  3.925,  3.95 ,  3.975,  4.   ])], dtype=object)"
       ]
      }
     ],
     "prompt_number": 207
    },
    {
     "cell_type": "code",
     "collapsed": false,
     "input": [
      "lin_pars[0]"
     ],
     "language": "python",
     "metadata": {},
     "outputs": [
      {
       "metadata": {},
       "output_type": "pyout",
       "prompt_number": 210,
       "text": [
        "0.81094117227877371"
       ]
      }
     ],
     "prompt_number": 210
    },
    {
     "cell_type": "code",
     "collapsed": false,
     "input": [
      "sp.urho"
     ],
     "language": "python",
     "metadata": {},
     "outputs": [
      {
       "metadata": {},
       "output_type": "pyout",
       "prompt_number": 251,
       "text": [
        "name\n",
        "55 Cnc e         0.792862\n",
        "CoRoT-7 b        2.600240\n",
        "GJ 1214 b        0.333105\n",
        "HD 97658 b       0.865000\n",
        "KOI-104.01       0.260000\n",
        "KOI-108.01       0.590000\n",
        "KOI-116.01       1.560000\n",
        "KOI-116.02       2.070000\n",
        "KOI-116.03      26.260000\n",
        "KOI-116.04      39.750000\n",
        "KOI-122.01       0.370000\n",
        "KOI-123.01       2.200000\n",
        "KOI-123.02       2.300000\n",
        "KOI-1442.01      5.700000\n",
        "KOI-148.01       1.840000\n",
        "...\n",
        "Kepler-10 b     2.260\n",
        "Kepler-11 b     1.080\n",
        "Kepler-11 c     0.500\n",
        "Kepler-11 d     0.210\n",
        "Kepler-11 f     0.300\n",
        "Kepler-18 b     2.400\n",
        "Kepler-20 b     2.350\n",
        "Kepler-20 c     0.965\n",
        "Kepler-20 d     2.035\n",
        "Kepler-30 b     0.130\n",
        "Kepler-36 b     0.665\n",
        "Kepler-36 c     0.060\n",
        "Kepler-68 b     0.920\n",
        "Kepler-68 c    18.000\n",
        "Kepler-78 b     1.800\n",
        "Name: urho, Length: 63, dtype: float64"
       ]
      }
     ],
     "prompt_number": 251
    },
    {
     "cell_type": "code",
     "collapsed": false,
     "input": [],
     "language": "python",
     "metadata": {},
     "outputs": []
    }
   ],
   "metadata": {}
  }
 ]
}