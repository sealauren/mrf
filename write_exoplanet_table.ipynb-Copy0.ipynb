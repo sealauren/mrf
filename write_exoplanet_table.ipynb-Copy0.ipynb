{
 "metadata": {
  "name": ""
 },
 "nbformat": 3,
 "nbformat_minor": 0,
 "worksheets": [
  {
   "cells": [
    {
     "cell_type": "code",
     "collapsed": false,
     "input": [
      "%matplotlib osx\n",
      "import numpy as np\n",
      "import math\n",
      "import pandas as pd\n",
      "import matplotlib.pyplot as plt\n",
      "dtype_dict = {'NAME': str, 'MSINI': np.float32, 'MSINIUPPER': np.float32, 'MSINILOWER': np.float32,\n",
      "              'UMSINI':np.float32, 'R':np.float32, 'RUPPER':np.float32, 'RLOWER':np.float32, 'UR':np.float32,\n",
      "              'MSTAR':np.float32, 'MSTARUPPER':np.float32, 'MSTARLOWER':np.float32, 'UMSTAR':np.float32, \n",
      "              'RSTAR':np.float32, 'RSTARUPPER':np.float32, 'RSTARLOWER':np.float32, 'URSTAR':np.float32,\n",
      "              'TEFF':np.float32, 'TEFFUPPER':np.float32, 'TEFFLOWER':np.float32, 'UTEFF':np.float32,\n",
      "              'A':np.float32, 'AUPPER':np.float32, 'ALOWER':np.float32, 'UA':np.float32,\n",
      "              'PER':np.float32, 'ECC':np.float32, 'I':np.float32,\n",
      "              'FIRSTREF':str, 'FIRSTURL':str, 'ORBREF':str, 'ORBURL':str, 'DATE':int}\n",
      "df = pd.read_csv(\"all_exos_errors6.csv\",skiprows=[1])\n",
      "df.sort(inplace=True)"
     ],
     "language": "python",
     "metadata": {},
     "outputs": [],
     "prompt_number": 242
    },
    {
     "cell_type": "code",
     "collapsed": false,
     "input": [
      "SINI = df.I*np.pi/180.\n",
      "df['M'] = df.MSINI/SINI\n",
      "df['UM'] = df.UMSINI"
     ],
     "language": "python",
     "metadata": {},
     "outputs": [],
     "prompt_number": 243
    },
    {
     "cell_type": "code",
     "collapsed": false,
     "input": [
      "# Need to build local lookup table, or use wolfram_lookup, to get common values\n",
      "%load 'astrophysical_constants.txt'"
     ],
     "language": "python",
     "metadata": {},
     "outputs": [],
     "prompt_number": 244
    },
    {
     "cell_type": "code",
     "collapsed": false,
     "input": [
      "mearth = 5.9721986E27 #grams\n",
      "rearth = 6.3675E8 #centimeters\n",
      "msun = 1.988435E33 #grams\n",
      "rsun = 6.955E10 #centimeters\n",
      "cmperau=1.496E13\n",
      "lsun = 3.846E33 #ergs per second\n",
      "tsun = 5780 #kelvins"
     ],
     "language": "python",
     "metadata": {},
     "outputs": [],
     "prompt_number": 214
    },
    {
     "cell_type": "code",
     "collapsed": false,
     "input": [
      "df.RHO = df.M*mearth/(4/3*np.pi*(df.R*rearth)**3) # cgs\n",
      "df.URHO = sqrt((df.UMSINI/df.M)**2. + (3*df.UR/df.R)**2.)*df.RHO"
     ],
     "language": "python",
     "metadata": {},
     "outputs": [],
     "prompt_number": 245
    },
    {
     "cell_type": "code",
     "collapsed": false,
     "input": [
      "df22 = pd.read_csv('h22_orbital_pars_annotated.txt',skiprows=[1],skipinitialspace=True, delim_whitespace=False)"
     ],
     "language": "python",
     "metadata": {},
     "outputs": [],
     "prompt_number": 282
    },
    {
     "cell_type": "code",
     "collapsed": false,
     "input": [
      "df22.columns"
     ],
     "language": "python",
     "metadata": {},
     "outputs": [
      {
       "metadata": {},
       "output_type": "pyout",
       "prompt_number": 283,
       "text": [
        "Index([u'  KOI     ', u'                   Per     ', u'     R      ', u'   err(R)       ', u'      M    ', u'   err(M)   ', u'      rho_pl  ', u' err(rho_pl)  ', u'   K    ', u'     err(K)    ', u'      rho*  ', u'  err(rho*)   ', u'     b   ', u'   err(b)      ', u'                rp/R*     ', u'                  Epoch of transit ', u'  Upper Limit to Mass'], dtype=object)"
       ]
      }
     ],
     "prompt_number": 283
    },
    {
     "cell_type": "code",
     "collapsed": false,
     "input": [
      "#df22['UM'] = df22['err(M)']\n",
      "#df22['UR'] = df22['err(R)']\n",
      "#df22['PER'] = df22['Per']\n",
      "pd.read_csv("
     ],
     "language": "python",
     "metadata": {},
     "outputs": [
      {
       "ename": "AttributeError",
       "evalue": "'DataFrame' object has no attribute 'M'",
       "output_type": "pyerr",
       "traceback": [
        "\u001b[0;31m---------------------------------------------------------------------------\u001b[0m\n\u001b[0;31mAttributeError\u001b[0m                            Traceback (most recent call last)",
        "\u001b[0;32m<ipython-input-284-4a25e8438f10>\u001b[0m in \u001b[0;36m<module>\u001b[0;34m()\u001b[0m\n\u001b[1;32m      2\u001b[0m \u001b[0;31m#df22['UR'] = df22['err(R)']\u001b[0m\u001b[0;34m\u001b[0m\u001b[0;34m\u001b[0m\u001b[0m\n\u001b[1;32m      3\u001b[0m \u001b[0;31m#df22['PER'] = df22['Per']\u001b[0m\u001b[0;34m\u001b[0m\u001b[0;34m\u001b[0m\u001b[0m\n\u001b[0;32m----> 4\u001b[0;31m \u001b[0mdf22\u001b[0m\u001b[0;34m.\u001b[0m\u001b[0mM\u001b[0m\u001b[0;34m\u001b[0m\u001b[0m\n\u001b[0m",
        "\u001b[0;32m/Users/lweiss/Library/Enthought/Canopy_64bit/User/lib/python2.7/site-packages/pandas/core/frame.pyc\u001b[0m in \u001b[0;36m__getattr__\u001b[0;34m(self, name)\u001b[0m\n\u001b[1;32m   2086\u001b[0m             \u001b[0;32mreturn\u001b[0m \u001b[0mself\u001b[0m\u001b[0;34m[\u001b[0m\u001b[0mname\u001b[0m\u001b[0;34m]\u001b[0m\u001b[0;34m\u001b[0m\u001b[0m\n\u001b[1;32m   2087\u001b[0m         raise AttributeError(\"'%s' object has no attribute '%s'\" %\n\u001b[0;32m-> 2088\u001b[0;31m                              (type(self).__name__, name))\n\u001b[0m\u001b[1;32m   2089\u001b[0m \u001b[0;34m\u001b[0m\u001b[0m\n\u001b[1;32m   2090\u001b[0m     \u001b[0;32mdef\u001b[0m \u001b[0m__setattr__\u001b[0m\u001b[0;34m(\u001b[0m\u001b[0mself\u001b[0m\u001b[0;34m,\u001b[0m \u001b[0mname\u001b[0m\u001b[0;34m,\u001b[0m \u001b[0mvalue\u001b[0m\u001b[0;34m)\u001b[0m\u001b[0;34m:\u001b[0m\u001b[0;34m\u001b[0m\u001b[0m\n",
        "\u001b[0;31mAttributeError\u001b[0m: 'DataFrame' object has no attribute 'M'"
       ]
      }
     ],
     "prompt_number": 284
    },
    {
     "cell_type": "code",
     "collapsed": false,
     "input": [
      "df.NAME"
     ],
     "language": "python",
     "metadata": {},
     "outputs": [
      {
       "metadata": {},
       "output_type": "pyout",
       "prompt_number": 236,
       "text": [
        "0       55 Cnc e\n",
        "1      CoRoT-1 b\n",
        "2     CoRoT-10 b\n",
        "3     CoRoT-11 b\n",
        "4     CoRoT-12 b\n",
        "5     CoRoT-13 b\n",
        "6     CoRoT-14 b\n",
        "7     CoRoT-16 b\n",
        "8     CoRoT-17 b\n",
        "9     CoRoT-18 b\n",
        "10    CoRoT-19 b\n",
        "11     CoRoT-2 b\n",
        "12    CoRoT-23 b\n",
        "13     CoRoT-3 b\n",
        "14     CoRoT-4 b\n",
        "...\n",
        "178      WASP-64 b\n",
        "179      WASP-66 b\n",
        "180      WASP-67 b\n",
        "181       WASP-7 b\n",
        "182      WASP-72 b\n",
        "183    WASP-77 A b\n",
        "184      WASP-78 b\n",
        "185      WASP-79 b\n",
        "186       WASP-8 b\n",
        "187      WASP-80 b\n",
        "188         XO-1 b\n",
        "189         XO-2 b\n",
        "190         XO-3 b\n",
        "191         XO-4 b\n",
        "192         XO-5 b\n",
        "Name: NAME, Length: 193, dtype: object"
       ]
      }
     ],
     "prompt_number": 236
    },
    {
     "cell_type": "code",
     "collapsed": false,
     "input": [
      "flux_earth = lsun/(4*np.pi*cmperau**2.) # flux on earth\n",
      "df.FLUX=sqrt(1./(1 - df.ECC**2))* df.RSTAR**2*(df.TEFF/5778.)**4/df.A**2 #time avg. flux on the planet in earth fluxes\n",
      "df.UFLUX = df.FLUX * np.sqrt((4*df.UTEFF/df.TEFF)**2. + (2*df.URSTAR/df.RSTAR)**2 + (2*df.UA/df.A)**2)\n",
      "MEDF = median(df.FLUX)\n",
      "df_hot = df[df.FLUX > MEDF]\n",
      "df_cold = df[df.FLUX <= MEDF]"
     ],
     "language": "python",
     "metadata": {},
     "outputs": [],
     "prompt_number": 261
    },
    {
     "cell_type": "code",
     "collapsed": false,
     "input": [
      "#f, (ax1, ax2) = plt.subplots(1,2)\n",
      "plt.subplot(111, xscale=\"log\", yscale=\"log\") # I don't understand what's going on here.\n",
      "plt.errorbar(df_hot.M, df_hot.R, xerr=df_hot.UMSINI, yerr=df_hot.UR, fmt='o', markersize=5, \n",
      "             alpha=0.5, color='r', label='$F > $ %i $F_E$'%MEDF);\n",
      "plt.errorbar(df_cold.M, df_cold.R, xerr=df_cold.UMSINI, yerr=df_cold.UR, fmt='o', markersize=5, \n",
      "             alpha =0.5, color='b', label='$F < $ %i $F_E$'%MEDF);\n",
      "#ax2.semilogx(df.M, df.RHO, 'o', markersize=5, color='r', label='exoplanets.org');\n",
      "#plt.legend();\n",
      "plt.title('Exoplanets')\n",
      "plt.xlabel('Mass ($M_E$)')\n",
      "plt.ylabel('Radius ($R_E$)')\n",
      "#plt.axis([0,4,0,0.5])\n",
      "#plt.plot(df.R, df.M, 'o', markersize=5, color='r', label='exoplanets.org');\n",
      "plt.legend(loc='lower right')"
     ],
     "language": "python",
     "metadata": {},
     "outputs": [
      {
       "metadata": {},
       "output_type": "pyout",
       "prompt_number": 262,
       "text": [
        "<matplotlib.legend.Legend at 0x1143aee90>"
       ]
      }
     ],
     "prompt_number": 262
    },
    {
     "cell_type": "code",
     "collapsed": false,
     "input": [
      "print df.UMSINI"
     ],
     "language": "python",
     "metadata": {},
     "outputs": [
      {
       "output_type": "stream",
       "stream": "stdout",
       "text": [
        "0       0.392415\n",
        "1      39.271327\n",
        "2      50.861781\n",
        "3     108.697413\n",
        "4      22.463373\n",
        "5      24.607237\n",
        "6     143.985862\n",
        "7      27.812704\n",
        "8      88.162964\n",
        "9     119.356346\n",
        "10     20.468311\n",
        "11     54.284984\n",
        "12     99.394603\n",
        "13    315.170788\n",
        "14     23.006649\n",
        "...\n",
        "178     24.161849\n",
        "179     42.053176\n",
        "180     10.476094\n",
        "181     40.347772\n",
        "182     18.862861\n",
        "183      6.884003\n",
        "184     25.613190\n",
        "185     26.571948\n",
        "186     25.383186\n",
        "187     11.241809\n",
        "188     25.251261\n",
        "189     17.974563\n",
        "190    141.156977\n",
        "191     25.273063\n",
        "192     28.015947\n",
        "Name: UMSINI, Length: 193, dtype: float64\n"
       ]
      }
     ],
     "prompt_number": 221
    },
    {
     "cell_type": "code",
     "collapsed": false,
     "input": [],
     "language": "python",
     "metadata": {},
     "outputs": []
    }
   ],
   "metadata": {}
  }
 ]
}