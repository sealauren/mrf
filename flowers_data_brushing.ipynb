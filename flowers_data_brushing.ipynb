{
 "metadata": {
  "name": ""
 },
 "nbformat": 3,
 "nbformat_minor": 0,
 "worksheets": [
  {
   "cells": [
    {
     "cell_type": "code",
     "collapsed": true,
     "input": [
      "%matplotlib osx\n",
      "import sys\n",
      "import numpy as np\n",
      "import pandas as pd\n",
      "import matplotlib.pyplot as plt"
     ],
     "language": "python",
     "metadata": {},
     "outputs": [],
     "prompt_number": 1
    },
    {
     "cell_type": "code",
     "collapsed": true,
     "input": [
      "# Data descriptor to make a proper array.\n",
      "import os\n",
      "#dt = [('sepal length',np.float32), ('sepal width',np.float32), ('petal length',np.float32), \n",
      "#      ('petal width',np.float32), ('species','S10') ]\n",
      "#data_fname = os.path.join('hw_3_data', 'flowers.csv')\n",
      "#tab = np.loadtxt(data_fname, dt).view(np.recarray)\n",
      "data_fname = os.path.join('hw_3_data', 'flowers.csv')\n",
      "df = pd.read_csv(data_fname)\n",
      "df.head()"
     ],
     "language": "python",
     "metadata": {},
     "outputs": [
      {
       "html": [
        "<div style=\"max-height:1000px;max-width:1500px;overflow:auto;\">\n",
        "<table border=\"1\" class=\"dataframe\">\n",
        "  <thead>\n",
        "    <tr style=\"text-align: right;\">\n",
        "      <th></th>\n",
        "      <th>sepal length</th>\n",
        "      <th>sepal width</th>\n",
        "      <th>petal length</th>\n",
        "      <th>petal width</th>\n",
        "      <th>species</th>\n",
        "    </tr>\n",
        "  </thead>\n",
        "  <tbody>\n",
        "    <tr>\n",
        "      <th>0</th>\n",
        "      <td> 5.1</td>\n",
        "      <td> 3.5</td>\n",
        "      <td> 1.4</td>\n",
        "      <td> 0.2</td>\n",
        "      <td> setosa</td>\n",
        "    </tr>\n",
        "    <tr>\n",
        "      <th>1</th>\n",
        "      <td> 4.9</td>\n",
        "      <td> 3.0</td>\n",
        "      <td> 1.4</td>\n",
        "      <td> 0.2</td>\n",
        "      <td> setosa</td>\n",
        "    </tr>\n",
        "    <tr>\n",
        "      <th>2</th>\n",
        "      <td> 4.7</td>\n",
        "      <td> 3.2</td>\n",
        "      <td> 1.3</td>\n",
        "      <td> 0.2</td>\n",
        "      <td> setosa</td>\n",
        "    </tr>\n",
        "    <tr>\n",
        "      <th>3</th>\n",
        "      <td> 4.6</td>\n",
        "      <td> 3.1</td>\n",
        "      <td> 1.5</td>\n",
        "      <td> 0.2</td>\n",
        "      <td> setosa</td>\n",
        "    </tr>\n",
        "    <tr>\n",
        "      <th>4</th>\n",
        "      <td> 5.0</td>\n",
        "      <td> 3.6</td>\n",
        "      <td> 1.4</td>\n",
        "      <td> 0.2</td>\n",
        "      <td> setosa</td>\n",
        "    </tr>\n",
        "  </tbody>\n",
        "</table>\n",
        "</div>"
       ],
       "metadata": {},
       "output_type": "pyout",
       "prompt_number": 2,
       "text": [
        "   sepal length  sepal width  petal length  petal width species\n",
        "0           5.1          3.5           1.4          0.2  setosa\n",
        "1           4.9          3.0           1.4          0.2  setosa\n",
        "2           4.7          3.2           1.3          0.2  setosa\n",
        "3           4.6          3.1           1.5          0.2  setosa\n",
        "4           5.0          3.6           1.4          0.2  setosa"
       ]
      }
     ],
     "prompt_number": 2
    },
    {
     "cell_type": "code",
     "collapsed": false,
     "input": [
      "def count_plottables(df):\n",
      "    types = df.dtypes\n",
      "    numctr = 0\n",
      "    strctr = 0\n",
      "    for type in types:\n",
      "        print type\n",
      "        if (type == float) or (type == int):\n",
      "            numctr+=1\n",
      "        else:\n",
      "            strctr+=1\n",
      "    return (numctr,strctr)"
     ],
     "language": "python",
     "metadata": {},
     "outputs": [],
     "prompt_number": 3
    },
    {
     "cell_type": "code",
     "collapsed": false,
     "input": [
      "nplot = count_plottables(df)[0]\n",
      "print nplot"
     ],
     "language": "python",
     "metadata": {},
     "outputs": [
      {
       "output_type": "stream",
       "stream": "stdout",
       "text": [
        "float64\n",
        "float64\n",
        "float64\n",
        "float64\n",
        "object\n",
        "4\n"
       ]
      }
     ],
     "prompt_number": 4
    },
    {
     "cell_type": "code",
     "collapsed": true,
     "input": [
      "from matplotlib.patches import Rectangle\n",
      "class DrawRectangle(object):\n",
      "    lock=None\n",
      "    def __init__(self, f, axes):\n",
      "        self.figure = f\n",
      "        self.axes = axes\n",
      "        self.rect = Rectangle((0,0), 1, 1, facecolor='None', edgecolor='k')\n",
      "        self.x0 = None\n",
      "        self.y0 = None\n",
      "        self.x1 = None\n",
      "        self.y1 = None\n",
      "        self.figure.canvas.mpl_connect('button_press_event', self.on_press)\n",
      "        self.figure.canvas.mpl_connect('button_release_event', self.on_release)\n",
      "        self.figure.canvas.mpl_connect('motion_notify_event', self.on_motion)\n",
      "        self.figure.canvas.mpl_connect('axes_enter_event',self.enter_axes)\n",
      "        self.figure.canvas.mpl_connect('axes_leave_event', self.leave_axes)\n",
      "\n",
      "    def enter_axes(self,event):\n",
      "        print 'enter_axes', event.inaxes\n",
      "        self.ax = event.inaxes     \n",
      "        event.inaxes.patch.set_facecolor('gray')\n",
      "        self.ax.figure.canvas.draw()\n",
      "\n",
      "    def on_press(self, event):\n",
      "        print 'PRESS in ',event.inaxes\n",
      "        self.ax = event.inaxes\n",
      "        self.rect.set_axes(event.inaxes)\n",
      "        self.x0 = event.xdata\n",
      "        self.y0 = event.ydata    \n",
      "        self.rect.set_width(0)\n",
      "        self.rect.set_height(0)\n",
      "        self.rect.set_xy((self.x0, self.y0))\n",
      "        self.rect.set_linestyle('dashed')\n",
      "        self.ax.add_patch(self.rect)\n",
      "        self.ax.figure.canvas.draw()\n",
      "    def on_motion(self,event):\n",
      "        if self.on_press is True:\n",
      "            return\n",
      "        self.ax = event.inaxes\n",
      "        self.rect.set_axes(event.inaxes)\n",
      "        self.x1 = event.xdata\n",
      "        self.y1 = event.ydata\n",
      "        self.rect.set_width(self.x1 - self.x0)\n",
      "        self.rect.set_height(self.y1 - self.y0)\n",
      "        self.rect.set_xy((self.x0, self.y0))\n",
      "        self.rect.set_linestyle('dashed')\n",
      "        self.ax.add_patch(self.rect)\n",
      "        self.ax.figure.canvas.draw()\n",
      "    def on_release(self, event):\n",
      "        print 'release'\n",
      "        self.ax = event.inaxes\n",
      "        self.rect.set_axes(event.inaxes)\n",
      "        self.x1 = event.xdata\n",
      "        self.y1 = event.ydata\n",
      "        self.rect.set_width(self.x1 - self.x0)\n",
      "        self.rect.set_height(self.y1 - self.y0)\n",
      "        self.rect.set_xy((self.x0, self.y0))\n",
      "        self.rect.set_linestyle('solid')\n",
      "        self.ax.add_patch(self.rect)\n",
      "        self.ax.figure.canvas.draw()\n",
      "        print self.x0,self.x1,self.y0,self.y1\n",
      "        sys.stdout.flush() # ensures printing\n",
      "        \n",
      "    def leave_axes(self,event):\n",
      "        self.ax = event.inaxes\n",
      "        print 'leave_axes', event.inaxes\n",
      "        event.inaxes.patch.set_facecolor('white')\n",
      "        self.ax.figure.canvas.draw()\n",
      "        \n",
      "    def grab_coordinates(self):\n",
      "        return [self.x0,self.x1,self.y0,self.y1]\n",
      "    \n",
      "    def grab_axes(self):\n",
      "        return self.ax\n",
      "        \n",
      "#     def compute_data_properties(self):\n",
      "#         sepal_length = self.flowers['sepal length']\n",
      "#         sepal_width = self.flowers['sepal width']\n",
      "#         petal_length = self.flowers['petal length']\n",
      "#         petal_width = self.flowers['petal width']\n",
      "\n",
      "    def __del__(self):\n",
      "        self.figure.canvas.mpl_disconnect(self.on_press)\n",
      "        self.figure.canvas.mpl_disconnect(self.on_release)\n",
      "        self.figure.canvas.mpl_disconnect(self.on_motion)\n",
      "        self.figure.canvas.mpl_disconnect(self.enter_axes)\n",
      "        self.figure.canvas.mpl_disconnect(self.leave_axes)"
     ],
     "language": "python",
     "metadata": {},
     "outputs": [],
     "prompt_number": 42
    },
    {
     "cell_type": "code",
     "collapsed": false,
     "input": [
      "# Set up the figure\n",
      "#f = plt.figure(figsize=(14,14))\n",
      "f, axarr = plt.subplots(nplot, nplot)\n",
      "ctable = {'setosa':'r','versicolor':'g','virginica':'b'}\n",
      "for i in xrange(0,nplot):\n",
      "    for j in xrange(0,nplot):\n",
      "        axarr[i,j].scatter(df.iloc[:,nplot-1-j], df.iloc[:,i], c=[ctable[s] for s in df.species])\n",
      "        axarr[i,j].set_xlabel(df.columns[nplot-j-1])\n",
      "        axarr[i,j].set_ylabel(df.columns[i])\n"
     ],
     "language": "python",
     "metadata": {},
     "outputs": [],
     "prompt_number": 43
    },
    {
     "cell_type": "code",
     "collapsed": false,
     "input": [
      "Rect = DrawRectangle(f,axarr)"
     ],
     "language": "python",
     "metadata": {},
     "outputs": [
      {
       "output_type": "stream",
       "stream": "stdout",
       "text": [
        "leave_axes Axes(0.327174,0.517391;0.168478x0.173913)\n",
        "leave_axes"
       ]
      },
      {
       "output_type": "stream",
       "stream": "stdout",
       "text": [
        " Axes(0.327174,0.517391;0.168478x0.173913)\n",
        "enter_axes"
       ]
      },
      {
       "output_type": "stream",
       "stream": "stdout",
       "text": [
        " Axes(0.529348,0.308696;0.168478x0.173913)\n",
        "enter_axes"
       ]
      },
      {
       "output_type": "stream",
       "stream": "stdout",
       "text": [
        " Axes(0.529348,0.308696;0.168478x0.173913)\n",
        "PRESS in "
       ]
      },
      {
       "output_type": "stream",
       "stream": "stdout",
       "text": [
        " Axes(0.529348,0.308696;0.168478x0.173913)\n",
        "PRESS in "
       ]
      },
      {
       "output_type": "stream",
       "stream": "stdout",
       "text": [
        " Axes(0.529348,0.308696;0.168478x0.173913)\n",
        "release"
       ]
      },
      {
       "output_type": "stream",
       "stream": "stdout",
       "text": [
        "\n",
        "1.9939516129"
       ]
      },
      {
       "output_type": "stream",
       "stream": "stdout",
       "text": [
        " 3.3247983871 6.7875 3.14583333333\n"
       ]
      },
      {
       "output_type": "stream",
       "stream": "stdout",
       "text": [
        "release\n",
        "1.9939516129"
       ]
      },
      {
       "output_type": "stream",
       "stream": "stdout",
       "text": [
        " 3.3247983871 6.7875 3.14583333333\n"
       ]
      },
      {
       "output_type": "stream",
       "stream": "stdout",
       "text": [
        "PRESS in  Axes(0.529348,0.308696;0.168478x0.173913)\n",
        "PRESS in "
       ]
      },
      {
       "output_type": "stream",
       "stream": "stdout",
       "text": [
        " Axes(0.529348,0.308696;0.168478x0.173913)\n",
        "release"
       ]
      },
      {
       "output_type": "stream",
       "stream": "stdout",
       "text": [
        "\n",
        "2.25362903226"
       ]
      },
      {
       "output_type": "stream",
       "stream": "stdout",
       "text": [
        " 3.35725806452 5.82916666667 3.43333333333\n"
       ]
      },
      {
       "output_type": "stream",
       "stream": "stdout",
       "text": [
        "release\n",
        "2.25362903226"
       ]
      },
      {
       "output_type": "stream",
       "stream": "stdout",
       "text": [
        " 3.35725806452 5.82916666667 3.43333333333\n"
       ]
      }
     ],
     "prompt_number": 54
    },
    {
     "cell_type": "code",
     "collapsed": false,
     "input": [],
     "language": "python",
     "metadata": {},
     "outputs": [],
     "prompt_number": 39
    },
    {
     "cell_type": "code",
     "collapsed": false,
     "input": [
      "coords = Rect.grab_coordinates()\n",
      "axis = Rect.grab_axes"
     ],
     "language": "python",
     "metadata": {},
     "outputs": [],
     "prompt_number": 55
    },
    {
     "cell_type": "code",
     "collapsed": false,
     "input": [
      "print coords\n",
      "print axis"
     ],
     "language": "python",
     "metadata": {},
     "outputs": [
      {
       "output_type": "stream",
       "stream": "stdout",
       "text": [
        "[2.2536290322580612, 3.3572580645161256, 5.8291666666666657, 3.4333333333333336]\n",
        "<bound method DrawRectangle.grab_axes of <__main__.DrawRectangle object at 0x1116d95d0>>\n"
       ]
      }
     ],
     "prompt_number": 56
    },
    {
     "cell_type": "code",
     "collapsed": false,
     "input": [
      "del(Rect)"
     ],
     "language": "python",
     "metadata": {},
     "outputs": [],
     "prompt_number": 57
    },
    {
     "cell_type": "code",
     "collapsed": false,
     "input": [
      "axarr.view()"
     ],
     "language": "python",
     "metadata": {},
     "outputs": [
      {
       "metadata": {},
       "output_type": "pyout",
       "prompt_number": 60,
       "text": [
        "array([[<matplotlib.axes.AxesSubplot object at 0x11617cb10>,\n",
        "        <matplotlib.axes.AxesSubplot object at 0x110fd8c90>,\n",
        "        <matplotlib.axes.AxesSubplot object at 0x10f4b0190>,\n",
        "        <matplotlib.axes.AxesSubplot object at 0x10f47c3d0>],\n",
        "       [<matplotlib.axes.AxesSubplot object at 0x113f52790>,\n",
        "        <matplotlib.axes.AxesSubplot object at 0x113eb9210>,\n",
        "        <matplotlib.axes.AxesSubplot object at 0x10f40f550>,\n",
        "        <matplotlib.axes.AxesSubplot object at 0x113f1ba10>],\n",
        "       [<matplotlib.axes.AxesSubplot object at 0x113f3d610>,\n",
        "        <matplotlib.axes.AxesSubplot object at 0x113e64e10>,\n",
        "        <matplotlib.axes.AxesSubplot object at 0x113eb37d0>,\n",
        "        <matplotlib.axes.AxesSubplot object at 0x113f583d0>],\n",
        "       [<matplotlib.axes.AxesSubplot object at 0x113f13290>,\n",
        "        <matplotlib.axes.AxesSubplot object at 0x113ee10d0>,\n",
        "        <matplotlib.axes.AxesSubplot object at 0x10dc23e10>,\n",
        "        <matplotlib.axes.AxesSubplot object at 0x113e61e50>]], dtype=object)"
       ]
      }
     ],
     "prompt_number": 60
    },
    {
     "cell_type": "code",
     "collapsed": false,
     "input": [
      "axarr.any==axis"
     ],
     "language": "python",
     "metadata": {},
     "outputs": [
      {
       "metadata": {},
       "output_type": "pyout",
       "prompt_number": 64,
       "text": [
        "False"
       ]
      }
     ],
     "prompt_number": 64
    },
    {
     "cell_type": "code",
     "collapsed": false,
     "input": [],
     "language": "python",
     "metadata": {},
     "outputs": [
      {
       "ename": "TypeError",
       "evalue": "Required argument 'dtype' (pos 1) not found",
       "output_type": "pyerr",
       "traceback": [
        "\u001b[0;31m---------------------------------------------------------------------------\u001b[0m\n\u001b[0;31mTypeError\u001b[0m                                 Traceback (most recent call last)",
        "\u001b[0;32m<ipython-input-66-0494440bbc32>\u001b[0m in \u001b[0;36m<module>\u001b[0;34m()\u001b[0m\n\u001b[0;32m----> 1\u001b[0;31m \u001b[0maxarr\u001b[0m\u001b[0;34m.\u001b[0m\u001b[0mgetfield\u001b[0m\u001b[0;34m(\u001b[0m\u001b[0;34m)\u001b[0m\u001b[0;34m\u001b[0m\u001b[0m\n\u001b[0m",
        "\u001b[0;31mTypeError\u001b[0m: Required argument 'dtype' (pos 1) not found"
       ]
      }
     ],
     "prompt_number": 66
    },
    {
     "cell_type": "code",
     "collapsed": false,
     "input": [],
     "language": "python",
     "metadata": {},
     "outputs": []
    }
   ],
   "metadata": {}
  }
 ]
}