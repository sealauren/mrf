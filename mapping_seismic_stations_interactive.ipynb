{
 "metadata": {
  "name": ""
 },
 "nbformat": 3,
 "nbformat_minor": 0,
 "worksheets": [
  {
   "cells": [
    {
     "cell_type": "markdown",
     "metadata": {},
     "source": [
      "# Mapping seismic stations in the Himalayas with Numpy and Matplotlib\n",
      "## Part II - Interactive event handling"
     ]
    },
    {
     "cell_type": "markdown",
     "metadata": {},
     "source": [
      "Here, we extend the plot above by adding an event handler that prints the location (four-letter string) of the station you click on.\n",
      "\n",
      "We use a threshold for distance, and discriminate between a click below threshold (considered to be 'on') vs a miss, in which case we indicate what the closest station is, its coordinates and the distance to it from the click.\n",
      "\n",
      "In order to get interactive plot windows that support event handling, we must restart the kernel and activate pylab but *not* in `inline` mode."
     ]
    },
    {
     "cell_type": "code",
     "collapsed": true,
     "input": [
      "%matplotlib\n",
      "import sys\n",
      "import numpy as np\n",
      "import matplotlib.pyplot as plt"
     ],
     "language": "python",
     "metadata": {},
     "outputs": [
      {
       "output_type": "stream",
       "stream": "stdout",
       "text": [
        "Using matplotlib backend: MacOSX\n"
       ]
      }
     ],
     "prompt_number": 3
    },
    {
     "cell_type": "markdown",
     "metadata": {},
     "source": [
      "We quickly reload the data using the same approach as in the previous exercise"
     ]
    },
    {
     "cell_type": "code",
     "collapsed": true,
     "input": [
      "# Data descriptor to make a proper array.\n",
      "import os\n",
      "dt = [('station','S4'), ('lat',np.float32), ('lon',np.float32), \n",
      "      ('elev',np.float32) ]\n",
      "data_fname = os.path.join('data', 'stations.txt')\n",
      "tab = np.loadtxt(data_fname, dt).view(np.recarray)"
     ],
     "language": "python",
     "metadata": {},
     "outputs": [],
     "prompt_number": 4
    },
    {
     "cell_type": "markdown",
     "metadata": {},
     "source": [
      "We start by defining our `StationPicker` object that will do the job:"
     ]
    },
    {
     "cell_type": "code",
     "collapsed": true,
     "input": [
      "class StationPicker(object):\n",
      "    def __init__(self, figure, stations, eps=0.10, axis=None):\n",
      "        self.figure = figure\n",
      "        self.stations = stations\n",
      "        self.cid = figure.canvas.mpl_connect('button_press_event', self)\n",
      "        if axis is None:\n",
      "            axis = figure.axes[0]\n",
      "        self.axis = axis\n",
      "        self.eps = eps\n",
      "\n",
      "    def __call__(self, event):\n",
      "        #print 'click', event  # dbg\n",
      "        if event.inaxes != self.axis:\n",
      "            return\n",
      "        self.figure.canvas.draw()\n",
      "        # Compute the distance from the click to all stations\n",
      "        lats = self.stations['lat']\n",
      "        longs = self.stations['lon']\n",
      "        click_lat, click_long = event.xdata, event.ydata\n",
      "        lat_d = lats - click_lat\n",
      "        lon_d = longs - click_long\n",
      "        dist = np.sqrt(lat_d**2 + lon_d**2)\n",
      "        nearest_i = dist.argmin()\n",
      "        near_dist = dist[nearest_i]\n",
      "        nearest = self.stations[nearest_i]\n",
      "        #print 'Nearest distance:', near_dist  # dbg\n",
      "        if near_dist < self.eps:\n",
      "            print \"HIT! You clicked on\", nearest['station']\n",
      "        else:\n",
      "            print \"No hit, nearest is:\", nearest['station']\n",
      "            print \"It is at:\", nearest['lat'], nearest['lon']\n",
      "            print \"Distance to it:\", near_dist\n",
      "        sys.stdout.flush() # ensures printing"
     ],
     "language": "python",
     "metadata": {},
     "outputs": [],
     "prompt_number": 7
    },
    {
     "cell_type": "code",
     "collapsed": false,
     "input": [
      "fig, ax = plt.subplots()\n",
      "ax.scatter(tab['lat'], tab['lon'], 40*(tab['elev']+1), c=tab['elev'] )\n",
      "# We can now make a picker with that binds the figure and the data\n",
      "StationPicker(fig, tab)"
     ],
     "language": "python",
     "metadata": {},
     "outputs": [
      {
       "metadata": {},
       "output_type": "pyout",
       "prompt_number": 6,
       "text": [
        "<__main__.StationPicker at 0x10b8c56d0>"
       ]
      },
      {
       "output_type": "stream",
       "stream": "stdout",
       "text": [
        "HIT! You clicked on RBSH\n"
       ]
      },
      {
       "output_type": "stream",
       "stream": "stdout",
       "text": [
        "No hit, nearest is: YALA\n",
        "It is at: 28.4043 86.1133\n",
        "Distance to it: 0.162463\n"
       ]
      },
      {
       "output_type": "stream",
       "stream": "stdout",
       "text": [
        "HIT! You clicked on DINX\n"
       ]
      },
      {
       "output_type": "stream",
       "stream": "stdout",
       "text": [
        "HIT! You clicked on LAZE\n"
       ]
      },
      {
       "output_type": "stream",
       "stream": "stdout",
       "text": [
        "HIT! You clicked on SAJA\n"
       ]
      },
      {
       "output_type": "stream",
       "stream": "stdout",
       "text": [
        "HIT! You clicked on RC14\n"
       ]
      }
     ],
     "prompt_number": 6
    },
    {
     "cell_type": "code",
     "collapsed": true,
     "input": [],
     "language": "python",
     "metadata": {},
     "outputs": []
    }
   ],
   "metadata": {}
  }
 ]
}