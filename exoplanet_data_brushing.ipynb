{
 "metadata": {
  "name": ""
 },
 "nbformat": 3,
 "nbformat_minor": 0,
 "worksheets": [
  {
   "cells": [
    {
     "cell_type": "code",
     "collapsed": true,
     "input": [
      "%matplotlib osx\n",
      "import sys\n",
      "import numpy as np\n",
      "import pandas as pd\n",
      "import matplotlib.pyplot as plt"
     ],
     "language": "python",
     "metadata": {},
     "outputs": [],
     "prompt_number": 1
    },
    {
     "cell_type": "code",
     "collapsed": true,
     "input": [
      "import os\n",
      "data_fname = 'all_exos_errors6.csv'\n",
      "df = pd.read_csv(\"all_exos_errors6.csv\",skiprows=[1])\n",
      "df.sort(inplace=True)\n",
      "new_columns = [c.lower() for c in df.columns]\n",
      "df.columns = new_columns\n",
      "print df.columns"
     ],
     "language": "python",
     "metadata": {},
     "outputs": [
      {
       "output_type": "stream",
       "stream": "stdout",
       "text": [
        "Index([u'name', u'msini', u'msiniupper', u'msinilower', u'umsini', u'r', u'rupper', u'rlower', u'ur', u'mstar', u'mstarupper', u'mstarlower', u'umstar', u'rstar', u'rstarupper', u'rstarlower', u'urstar', u'teff', u'teffupper', u'tefflower', u'uteff', u'per', u'a', u'aupper', u'alower', u'ua', u'ecc', u'i', u'firstref', u'firsturl', u'orbref', u'orburl'], dtype=object)\n"
       ]
      }
     ],
     "prompt_number": 2
    },
    {
     "cell_type": "code",
     "collapsed": false,
     "input": [
      "sini = df.i*np.pi/180.\n",
      "df['m'] = df.msini/sini\n",
      "df['um'] = df.umsini"
     ],
     "language": "python",
     "metadata": {},
     "outputs": [],
     "prompt_number": 4
    },
    {
     "cell_type": "code",
     "collapsed": false,
     "input": [
      "# Need to build local lookup table, or use wolfram_lookup, to get common values\n",
      "%load 'astrophysical_constants.txt'"
     ],
     "language": "python",
     "metadata": {},
     "outputs": [],
     "prompt_number": 5
    },
    {
     "cell_type": "code",
     "collapsed": false,
     "input": [
      "mearth = 5.9721986E27 #grams\n",
      "rearth = 6.3675E8 #centimeters\n",
      "msun = 1.988435E33 #grams\n",
      "rsun = 6.955E10 #centimeters\n",
      "cmperau=1.496E13\n",
      "lsun = 3.846E33 #ergs per second\n",
      "tsun = 5780 #kelvins"
     ],
     "language": "python",
     "metadata": {},
     "outputs": [],
     "prompt_number": 6
    },
    {
     "cell_type": "code",
     "collapsed": false,
     "input": [
      "df['rho']= df.m*mearth/(4/3*np.pi*(df.r*rearth)**3) # cgs\n",
      "df['urho'] = np.sqrt((df.umsini/df.m)**2. + (3*df.ur/df.r)**2.)*df.rho"
     ],
     "language": "python",
     "metadata": {},
     "outputs": [],
     "prompt_number": 33
    },
    {
     "cell_type": "code",
     "collapsed": false,
     "input": [
      "df22 = pd.read_csv('h22_orbital_pars_annotated.txt',skiprows=[1],skipinitialspace=True)"
     ],
     "language": "python",
     "metadata": {},
     "outputs": [],
     "prompt_number": 37
    },
    {
     "cell_type": "code",
     "collapsed": false,
     "input": [
      "df22.columns\n",
      "new_columns = ['name','per','r','ur','m','um','rho','urho','k','uk','rhostar','urhostar','b','ub','rprs','ttransit','mlim']\n",
      "df22.columns = new_columns\n",
      "df.append(df22)"
     ],
     "language": "python",
     "metadata": {},
     "outputs": [
      {
       "html": [
        "<pre>\n",
        "&lt;class 'pandas.core.frame.DataFrame'&gt;\n",
        "Int64Index: 236 entries, 0 to 42\n",
        "Data columns (total 47 columns):\n",
        "a             193  non-null values\n",
        "alower        187  non-null values\n",
        "aupper        187  non-null values\n",
        "b             42  non-null values\n",
        "ecc           193  non-null values\n",
        "firstref      193  non-null values\n",
        "firsturl      193  non-null values\n",
        "flux          188  non-null values\n",
        "i             193  non-null values\n",
        "k             42  non-null values\n",
        "m             235  non-null values\n",
        "mlim          42  non-null values\n",
        "msini         193  non-null values\n",
        "msinilower    193  non-null values\n",
        "msiniupper    193  non-null values\n",
        "mstar         193  non-null values\n",
        "mstarlower    192  non-null values\n",
        "mstarupper    192  non-null values\n",
        "name          236  non-null values\n",
        "orbref        193  non-null values\n",
        "orburl        193  non-null values\n",
        "per           235  non-null values\n",
        "r             235  non-null values\n",
        "rho           235  non-null values\n",
        "rhostar       42  non-null values\n",
        "rlower        193  non-null values\n",
        "rprs          42  non-null values\n",
        "rstar         192  non-null values\n",
        "rstarlower    192  non-null values\n",
        "rstarupper    192  non-null values\n",
        "rupper        193  non-null values\n",
        "teff          188  non-null values\n",
        "tefflower     188  non-null values\n",
        "teffupper     188  non-null values\n",
        "ttransit      42  non-null values\n",
        "ua            187  non-null values\n",
        "ub            42  non-null values\n",
        "uflux         182  non-null values\n",
        "uk            42  non-null values\n",
        "um            235  non-null values\n",
        "umsini        193  non-null values\n",
        "umstar        192  non-null values\n",
        "ur            235  non-null values\n",
        "urho          235  non-null values\n",
        "urhostar      42  non-null values\n",
        "urstar        192  non-null values\n",
        "uteff         188  non-null values\n",
        "dtypes: float64(42), object(5)\n",
        "</pre>"
       ],
       "metadata": {},
       "output_type": "pyout",
       "prompt_number": 38,
       "text": [
        "<class 'pandas.core.frame.DataFrame'>\n",
        "Int64Index: 236 entries, 0 to 42\n",
        "Data columns (total 47 columns):\n",
        "a             193  non-null values\n",
        "alower        187  non-null values\n",
        "aupper        187  non-null values\n",
        "b             42  non-null values\n",
        "ecc           193  non-null values\n",
        "firstref      193  non-null values\n",
        "firsturl      193  non-null values\n",
        "flux          188  non-null values\n",
        "i             193  non-null values\n",
        "k             42  non-null values\n",
        "m             235  non-null values\n",
        "mlim          42  non-null values\n",
        "msini         193  non-null values\n",
        "msinilower    193  non-null values\n",
        "msiniupper    193  non-null values\n",
        "mstar         193  non-null values\n",
        "mstarlower    192  non-null values\n",
        "mstarupper    192  non-null values\n",
        "name          236  non-null values\n",
        "orbref        193  non-null values\n",
        "orburl        193  non-null values\n",
        "per           235  non-null values\n",
        "r             235  non-null values\n",
        "rho           235  non-null values\n",
        "rhostar       42  non-null values\n",
        "rlower        193  non-null values\n",
        "rprs          42  non-null values\n",
        "rstar         192  non-null values\n",
        "rstarlower    192  non-null values\n",
        "rstarupper    192  non-null values\n",
        "rupper        193  non-null values\n",
        "teff          188  non-null values\n",
        "tefflower     188  non-null values\n",
        "teffupper     188  non-null values\n",
        "ttransit      42  non-null values\n",
        "ua            187  non-null values\n",
        "ub            42  non-null values\n",
        "uflux         182  non-null values\n",
        "uk            42  non-null values\n",
        "um            235  non-null values\n",
        "umsini        193  non-null values\n",
        "umstar        192  non-null values\n",
        "ur            235  non-null values\n",
        "urho          235  non-null values\n",
        "urhostar      42  non-null values\n",
        "urstar        192  non-null values\n",
        "uteff         188  non-null values\n",
        "dtypes: float64(42), object(5)"
       ]
      }
     ],
     "prompt_number": 38
    },
    {
     "cell_type": "code",
     "collapsed": false,
     "input": [
      "flux_earth = lsun/(4*np.pi*cmperau**2.) # flux on earth\n",
      "df['flux']=np.sqrt(1./(1 - df.ecc**2))* df.rstar**2*(df.teff/5778.)**4/df.a**2 #time avg. flux on the planet in earth fluxes\n",
      "df['uflux'] = df.flux * np.sqrt((4*df.uteff/df.teff)**2. + (2*df.urstar/df.rstar)**2 + (2*df.ua/df.a)**2)\n",
      "medf = np.median(df.flux)\n",
      "df_hot = df[df.flux > medf]\n",
      "df_cold = df[df.flux <= medf]"
     ],
     "language": "python",
     "metadata": {},
     "outputs": [],
     "prompt_number": 39
    },
    {
     "cell_type": "code",
     "collapsed": false,
     "input": [
      "#plottables = df.loc[:,['m','r','mstar','rstar','teff','per','ecc','i','flux']]\n",
      "plottables = df.loc[:,['m','r','mstar','ecc']]\n",
      "nplot = len(plottables.columns)\n",
      "print nplot\n",
      "plottables.head()"
     ],
     "language": "python",
     "metadata": {},
     "outputs": [
      {
       "output_type": "stream",
       "stream": "stdout",
       "text": [
        "4\n"
       ]
      },
      {
       "html": [
        "<div style=\"max-height:1000px;max-width:1500px;overflow:auto;\">\n",
        "<table border=\"1\" class=\"dataframe\">\n",
        "  <thead>\n",
        "    <tr style=\"text-align: right;\">\n",
        "      <th></th>\n",
        "      <th>m</th>\n",
        "      <th>r</th>\n",
        "      <th>mstar</th>\n",
        "      <th>ecc</th>\n",
        "    </tr>\n",
        "  </thead>\n",
        "  <tbody>\n",
        "    <tr>\n",
        "      <th>0</th>\n",
        "      <td>   5.718847</td>\n",
        "      <td>  2.079995</td>\n",
        "      <td> 0.905</td>\n",
        "      <td> 0.00</td>\n",
        "    </tr>\n",
        "    <tr>\n",
        "      <th>1</th>\n",
        "      <td> 219.548121</td>\n",
        "      <td> 16.701381</td>\n",
        "      <td> 0.950</td>\n",
        "      <td> 0.00</td>\n",
        "    </tr>\n",
        "    <tr>\n",
        "      <th>2</th>\n",
        "      <td> 566.435264</td>\n",
        "      <td> 10.872711</td>\n",
        "      <td> 0.890</td>\n",
        "      <td> 0.53</td>\n",
        "    </tr>\n",
        "    <tr>\n",
        "      <th>3</th>\n",
        "      <td> 510.458562</td>\n",
        "      <td> 16.028842</td>\n",
        "      <td> 1.270</td>\n",
        "      <td> 0.00</td>\n",
        "    </tr>\n",
        "    <tr>\n",
        "      <th>4</th>\n",
        "      <td> 195.201141</td>\n",
        "      <td> 16.140932</td>\n",
        "      <td> 1.078</td>\n",
        "      <td> 0.07</td>\n",
        "    </tr>\n",
        "  </tbody>\n",
        "</table>\n",
        "</div>"
       ],
       "metadata": {},
       "output_type": "pyout",
       "prompt_number": 44,
       "text": [
        "            m          r  mstar   ecc\n",
        "0    5.718847   2.079995  0.905  0.00\n",
        "1  219.548121  16.701381  0.950  0.00\n",
        "2  566.435264  10.872711  0.890  0.53\n",
        "3  510.458562  16.028842  1.270  0.00\n",
        "4  195.201141  16.140932  1.078  0.07"
       ]
      }
     ],
     "prompt_number": 44
    },
    {
     "cell_type": "code",
     "collapsed": true,
     "input": [
      "from matplotlib.patches import Rectangle\n",
      "class Annotate(object):\n",
      "    def __init__(self, figure):\n",
      "        self.ax = plt.gca()\n",
      "        self.rect = Rectangle((0,0), 1, 1, facecolor='None', edgecolor='green')\n",
      "        self.x0 = None\n",
      "        self.y0 = None\n",
      "        self.x1 = None\n",
      "        self.y1 = None\n",
      "        self.ax.add_patch(self.rect)\n",
      "        self.ax.figure.canvas.mpl_connect('button_press_event', self.on_press)\n",
      "        self.ax.figure.canvas.mpl_connect('button_release_event', self.on_release)\n",
      "        self.ax.figure.canvas.mpl_connect('motion_notify_event', self.on_motion)\n",
      "    def on_press(self, event):\n",
      "        print 'press'\n",
      "        self.x0 = event.xdata\n",
      "        self.y0 = event.ydata    \n",
      "        self.x1 = event.xdata\n",
      "        self.y1 = event.ydata\n",
      "        self.rect.set_width(self.x1 - self.x0)\n",
      "        self.rect.set_height(self.y1 - self.y0)\n",
      "        self.rect.set_xy((self.x0, self.y0))\n",
      "        self.rect.set_linestyle('dashed')\n",
      "        self.ax.figure.canvas.draw()\n",
      "    def on_motion(self,event):\n",
      "        if self.on_press is True:\n",
      "            return\n",
      "        self.x1 = event.xdata\n",
      "        self.y1 = event.ydata\n",
      "        self.rect.set_width(self.x1 - self.x0)\n",
      "        self.rect.set_height(self.y1 - self.y0)\n",
      "        self.rect.set_xy((self.x0, self.y0))\n",
      "        self.rect.set_linestyle('dashed')\n",
      "        self.ax.figure.canvas.draw()\n",
      "    def on_release(self, event):\n",
      "        print 'release'\n",
      "        self.x1 = event.xdata\n",
      "        self.y1 = event.ydata\n",
      "        self.rect.set_width(self.x1 - self.x0)\n",
      "        self.rect.set_height(self.y1 - self.y0)\n",
      "        self.rect.set_xy((self.x0, self.y0))\n",
      "        self.rect.set_linestyle('solid')\n",
      "        self.ax.figure.canvas.draw()\n",
      "        print self.x0,self.x1,self.y0,self.y1\n",
      "        sys.stdout.flush() # ensures printing\n",
      "        return [self.x0,self.x1,self.y0,self.y1]"
     ],
     "language": "python",
     "metadata": {},
     "outputs": [],
     "prompt_number": 9
    },
    {
     "cell_type": "code",
     "collapsed": false,
     "input": [
      "# Set up the figure\n",
      "#f = plt.figure(figsize=(14,14))\n",
      "f, axarr = plt.subplots(nplot, nplot)\n",
      "for i in xrange(0,nplot):\n",
      "    for j in xrange(0,nplot):\n",
      "        axarr[i,j].scatter(plottables.iloc[:,nplot-j-1], plottables.iloc[:,i],)\n",
      "        axarr[nplot-1,j].set_xlabel(plottables.columns[nplot-j-1])\n",
      "        axarr[i,0].set_ylabel(plottables.columns[i])\n",
      "#        axarr[i,j].xlim( axarr[0,j].get_xlim() )\n",
      "#    axarr[i,j].ylim( axarr[i,0].get_ylim() )        # set y-limit to match first axis"
     ],
     "language": "python",
     "metadata": {},
     "outputs": [],
     "prompt_number": 49
    },
    {
     "cell_type": "code",
     "collapsed": false,
     "input": [
      "# We can now make a picker with that binds the figure and the data\n",
      "Annotate(f)"
     ],
     "language": "python",
     "metadata": {},
     "outputs": [
      {
       "ename": "AttributeError",
       "evalue": "'function' object has no attribute 'add_patch'",
       "output_type": "pyerr",
       "traceback": [
        "\u001b[0;31m---------------------------------------------------------------------------\u001b[0m\n\u001b[0;31mAttributeError\u001b[0m                            Traceback (most recent call last)",
        "\u001b[0;32m<ipython-input-52-801d60964811>\u001b[0m in \u001b[0;36m<module>\u001b[0;34m()\u001b[0m\n\u001b[1;32m      1\u001b[0m \u001b[0;31m# We can now make a picker with that binds the figure and the data\u001b[0m\u001b[0;34m\u001b[0m\u001b[0;34m\u001b[0m\u001b[0m\n\u001b[0;32m----> 2\u001b[0;31m \u001b[0mAnnotate\u001b[0m\u001b[0;34m(\u001b[0m\u001b[0mf\u001b[0m\u001b[0;34m)\u001b[0m\u001b[0;34m\u001b[0m\u001b[0m\n\u001b[0m",
        "\u001b[0;32m<ipython-input-51-8928b56cb9d4>\u001b[0m in \u001b[0;36m__init__\u001b[0;34m(self, figure)\u001b[0m\n\u001b[1;32m      8\u001b[0m         \u001b[0mself\u001b[0m\u001b[0;34m.\u001b[0m\u001b[0mx1\u001b[0m \u001b[0;34m=\u001b[0m \u001b[0mNone\u001b[0m\u001b[0;34m\u001b[0m\u001b[0m\n\u001b[1;32m      9\u001b[0m         \u001b[0mself\u001b[0m\u001b[0;34m.\u001b[0m\u001b[0my1\u001b[0m \u001b[0;34m=\u001b[0m \u001b[0mNone\u001b[0m\u001b[0;34m\u001b[0m\u001b[0m\n\u001b[0;32m---> 10\u001b[0;31m         \u001b[0mself\u001b[0m\u001b[0;34m.\u001b[0m\u001b[0max\u001b[0m\u001b[0;34m.\u001b[0m\u001b[0madd_patch\u001b[0m\u001b[0;34m(\u001b[0m\u001b[0mself\u001b[0m\u001b[0;34m.\u001b[0m\u001b[0mrect\u001b[0m\u001b[0;34m)\u001b[0m\u001b[0;34m\u001b[0m\u001b[0m\n\u001b[0m\u001b[1;32m     11\u001b[0m         \u001b[0mself\u001b[0m\u001b[0;34m.\u001b[0m\u001b[0max\u001b[0m\u001b[0;34m.\u001b[0m\u001b[0mfigure\u001b[0m\u001b[0;34m.\u001b[0m\u001b[0mcanvas\u001b[0m\u001b[0;34m.\u001b[0m\u001b[0mmpl_connect\u001b[0m\u001b[0;34m(\u001b[0m\u001b[0;34m'button_press_event'\u001b[0m\u001b[0;34m,\u001b[0m \u001b[0mself\u001b[0m\u001b[0;34m.\u001b[0m\u001b[0mon_press\u001b[0m\u001b[0;34m)\u001b[0m\u001b[0;34m\u001b[0m\u001b[0m\n\u001b[1;32m     12\u001b[0m         \u001b[0mself\u001b[0m\u001b[0;34m.\u001b[0m\u001b[0max\u001b[0m\u001b[0;34m.\u001b[0m\u001b[0mfigure\u001b[0m\u001b[0;34m.\u001b[0m\u001b[0mcanvas\u001b[0m\u001b[0;34m.\u001b[0m\u001b[0mmpl_connect\u001b[0m\u001b[0;34m(\u001b[0m\u001b[0;34m'button_release_event'\u001b[0m\u001b[0;34m,\u001b[0m \u001b[0mself\u001b[0m\u001b[0;34m.\u001b[0m\u001b[0mon_release\u001b[0m\u001b[0;34m)\u001b[0m\u001b[0;34m\u001b[0m\u001b[0m\n",
        "\u001b[0;31mAttributeError\u001b[0m: 'function' object has no attribute 'add_patch'"
       ]
      }
     ],
     "prompt_number": 52
    },
    {
     "cell_type": "code",
     "collapsed": true,
     "input": [
      "ax = f.gca()"
     ],
     "language": "python",
     "metadata": {},
     "outputs": [],
     "prompt_number": 55
    },
    {
     "cell_type": "code",
     "collapsed": false,
     "input": [
      "ax.add_patch"
     ],
     "language": "python",
     "metadata": {},
     "outputs": [
      {
       "metadata": {},
       "output_type": "pyout",
       "prompt_number": 56,
       "text": [
        "<bound method AxesSubplot.add_patch of <matplotlib.axes.AxesSubplot object at 0x11b621550>>"
       ]
      },
      {
       "output_type": "stream",
       "stream": "stdout",
       "text": [
        "press\n",
        "release"
       ]
      },
      {
       "output_type": "stream",
       "stream": "stdout",
       "text": [
        "\n",
        "5.25936911793"
       ]
      },
      {
       "output_type": "stream",
       "stream": "stdout",
       "text": [
        " 6.79101057961 1.88518518519 0.841666666667\n"
       ]
      }
     ],
     "prompt_number": 56
    },
    {
     "cell_type": "code",
     "collapsed": false,
     "input": [
      "df.columns[0]"
     ],
     "language": "python",
     "metadata": {},
     "outputs": [
      {
       "metadata": {},
       "output_type": "pyout",
       "prompt_number": 20,
       "text": [
        "'name'"
       ]
      }
     ],
     "prompt_number": 20
    },
    {
     "cell_type": "code",
     "collapsed": false,
     "input": [],
     "language": "python",
     "metadata": {},
     "outputs": []
    }
   ],
   "metadata": {}
  }
 ]
}